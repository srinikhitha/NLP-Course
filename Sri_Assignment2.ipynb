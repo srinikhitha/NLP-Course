{
  "nbformat": 4,
  "nbformat_minor": 0,
  "metadata": {
    "colab": {
      "provenance": []
    },
    "kernelspec": {
      "name": "python3",
      "display_name": "Python 3"
    },
    "language_info": {
      "name": "python"
    }
  },
  "cells": [
    {
      "cell_type": "markdown",
      "source": [
        "# Basics of Text Pre-processing using NLTK."
      ],
      "metadata": {
        "id": "VHNe1K12cW6h"
      }
    },
    {
      "cell_type": "markdown",
      "source": [
        "Installing neccessary libraries and packages, and Importing them to use in the notebook,\n"
      ],
      "metadata": {
        "id": "KZuHczZbh9ea"
      }
    },
    {
      "cell_type": "code",
      "source": [
        "pip install nltk==3.5"
      ],
      "metadata": {
        "colab": {
          "base_uri": "https://localhost:8080/"
        },
        "id": "QxdINuZb3tf1",
        "outputId": "e21135a1-a332-4d2b-90c7-e171626eeb7b"
      },
      "execution_count": null,
      "outputs": [
        {
          "output_type": "stream",
          "name": "stdout",
          "text": [
            "Requirement already satisfied: nltk==3.5 in /usr/local/lib/python3.11/dist-packages (3.5)\n",
            "Requirement already satisfied: click in /usr/local/lib/python3.11/dist-packages (from nltk==3.5) (8.1.8)\n",
            "Requirement already satisfied: joblib in /usr/local/lib/python3.11/dist-packages (from nltk==3.5) (1.4.2)\n",
            "Requirement already satisfied: regex in /usr/local/lib/python3.11/dist-packages (from nltk==3.5) (2024.11.6)\n",
            "Requirement already satisfied: tqdm in /usr/local/lib/python3.11/dist-packages (from nltk==3.5) (4.67.1)\n"
          ]
        }
      ]
    },
    {
      "cell_type": "code",
      "source": [
        "pip install numpy matplotlib"
      ],
      "metadata": {
        "colab": {
          "base_uri": "https://localhost:8080/"
        },
        "id": "nfAuepZx33wc",
        "outputId": "ff873116-991c-43d5-f417-960658e71a9d"
      },
      "execution_count": null,
      "outputs": [
        {
          "output_type": "stream",
          "name": "stdout",
          "text": [
            "Requirement already satisfied: numpy in /usr/local/lib/python3.11/dist-packages (1.26.4)\n",
            "Requirement already satisfied: matplotlib in /usr/local/lib/python3.11/dist-packages (3.10.0)\n",
            "Requirement already satisfied: contourpy>=1.0.1 in /usr/local/lib/python3.11/dist-packages (from matplotlib) (1.3.1)\n",
            "Requirement already satisfied: cycler>=0.10 in /usr/local/lib/python3.11/dist-packages (from matplotlib) (0.12.1)\n",
            "Requirement already satisfied: fonttools>=4.22.0 in /usr/local/lib/python3.11/dist-packages (from matplotlib) (4.55.4)\n",
            "Requirement already satisfied: kiwisolver>=1.3.1 in /usr/local/lib/python3.11/dist-packages (from matplotlib) (1.4.8)\n",
            "Requirement already satisfied: packaging>=20.0 in /usr/local/lib/python3.11/dist-packages (from matplotlib) (24.2)\n",
            "Requirement already satisfied: pillow>=8 in /usr/local/lib/python3.11/dist-packages (from matplotlib) (11.1.0)\n",
            "Requirement already satisfied: pyparsing>=2.3.1 in /usr/local/lib/python3.11/dist-packages (from matplotlib) (3.2.1)\n",
            "Requirement already satisfied: python-dateutil>=2.7 in /usr/local/lib/python3.11/dist-packages (from matplotlib) (2.8.2)\n",
            "Requirement already satisfied: six>=1.5 in /usr/local/lib/python3.11/dist-packages (from python-dateutil>=2.7->matplotlib) (1.17.0)\n"
          ]
        }
      ]
    },
    {
      "cell_type": "code",
      "source": [
        "from nltk.tokenize import sent_tokenize, word_tokenize"
      ],
      "metadata": {
        "id": "gZq6Pebm4AfC"
      },
      "execution_count": null,
      "outputs": []
    },
    {
      "cell_type": "code",
      "source": [
        "import nltk"
      ],
      "metadata": {
        "id": "TBelIgne52vE"
      },
      "execution_count": null,
      "outputs": []
    },
    {
      "cell_type": "code",
      "source": [
        "nltk.download('punkt')"
      ],
      "metadata": {
        "colab": {
          "base_uri": "https://localhost:8080/"
        },
        "id": "XgDdfuvT8-4U",
        "outputId": "63649613-5ef7-49e1-badd-be59dd8da4d9"
      },
      "execution_count": null,
      "outputs": [
        {
          "output_type": "stream",
          "name": "stderr",
          "text": [
            "[nltk_data] Downloading package punkt to /root/nltk_data...\n",
            "[nltk_data]   Package punkt is already up-to-date!\n"
          ]
        },
        {
          "output_type": "execute_result",
          "data": {
            "text/plain": [
              "True"
            ]
          },
          "metadata": {},
          "execution_count": 5
        }
      ]
    },
    {
      "cell_type": "markdown",
      "source": [
        "## Tokenizing\n",
        "The first step in converting the unstructered data into structured data, We split the the text into either tokens of sentence or word.\n"
      ],
      "metadata": {
        "id": "WmbN1wxidj4x"
      }
    },
    {
      "cell_type": "code",
      "source": [
        "from nltk.tokenize import sent_tokenize, word_tokenize"
      ],
      "metadata": {
        "id": "ZAmTDOjD9AVS"
      },
      "execution_count": null,
      "outputs": []
    },
    {
      "cell_type": "code",
      "source": [
        "Myself_string = \"\"\" Hi Everyone this is Sri Nikhitha Bokka.\n",
        "... You all can call me Sri or Nikki.\n",
        "... Currently I am working in software industry\n",
        "... and doing masters in AI.\"\"\""
      ],
      "metadata": {
        "id": "YgbTvZfp9Eh1"
      },
      "execution_count": null,
      "outputs": []
    },
    {
      "cell_type": "code",
      "source": [
        "#Tokenizing by Sentence\n",
        "sent_tokenize(Myself_string)"
      ],
      "metadata": {
        "colab": {
          "base_uri": "https://localhost:8080/"
        },
        "id": "wx8udZs29J2c",
        "outputId": "2742e3ae-2a3f-4e58-b312-86ccfe199325"
      },
      "execution_count": null,
      "outputs": [
        {
          "output_type": "execute_result",
          "data": {
            "text/plain": [
              "[' Hi Everyone this is Sri Nikhitha Bokka.',\n",
              " 'You all can call me Sri or Nikki.',\n",
              " 'Currently I am working in software industry\\nand doing masters in AI.']"
            ]
          },
          "metadata": {},
          "execution_count": 28
        }
      ]
    },
    {
      "cell_type": "code",
      "source": [
        "#Tokenizing by Word\n",
        "word_tokenize(Myself_string)"
      ],
      "metadata": {
        "colab": {
          "base_uri": "https://localhost:8080/"
        },
        "id": "Ybwm5q2A9Tyc",
        "outputId": "96f5ab88-fc85-499d-dc7a-b0c5f5d46492"
      },
      "execution_count": null,
      "outputs": [
        {
          "output_type": "execute_result",
          "data": {
            "text/plain": [
              "['Hi',\n",
              " 'Everyone',\n",
              " 'this',\n",
              " 'is',\n",
              " 'Sri',\n",
              " 'Nikhitha',\n",
              " 'Bokka',\n",
              " '.',\n",
              " 'You',\n",
              " 'all',\n",
              " 'can',\n",
              " 'call',\n",
              " 'me',\n",
              " 'Sri',\n",
              " 'or',\n",
              " 'Nikki',\n",
              " '.',\n",
              " 'Currently',\n",
              " 'I',\n",
              " 'am',\n",
              " 'working',\n",
              " 'in',\n",
              " 'software',\n",
              " 'industry',\n",
              " 'and',\n",
              " 'doing',\n",
              " 'masters',\n",
              " 'in',\n",
              " 'AI',\n",
              " '.']"
            ]
          },
          "metadata": {},
          "execution_count": 29
        }
      ]
    },
    {
      "cell_type": "markdown",
      "source": [
        "## Filtering Stop Words\n",
        "\n",
        "We don't want 'in', 'is', ''s' to be a token, hence we will have Stop Words the words to ignore, filter them out of the text."
      ],
      "metadata": {
        "id": "f3fLZAQNfZNd"
      }
    },
    {
      "cell_type": "code",
      "source": [
        "nltk.download(\"stopwords\")"
      ],
      "metadata": {
        "colab": {
          "base_uri": "https://localhost:8080/"
        },
        "id": "Oz-5quLA9asr",
        "outputId": "8d8c374b-31a1-49fb-f5ab-49b01498b5c2"
      },
      "execution_count": null,
      "outputs": [
        {
          "output_type": "stream",
          "name": "stderr",
          "text": [
            "[nltk_data] Downloading package stopwords to /root/nltk_data...\n",
            "[nltk_data]   Package stopwords is already up-to-date!\n"
          ]
        },
        {
          "output_type": "execute_result",
          "data": {
            "text/plain": [
              "True"
            ]
          },
          "metadata": {},
          "execution_count": 30
        }
      ]
    },
    {
      "cell_type": "code",
      "source": [
        "from nltk.corpus import stopwords"
      ],
      "metadata": {
        "id": "qJVZ6PuI9cdr"
      },
      "execution_count": null,
      "outputs": []
    },
    {
      "cell_type": "code",
      "source": [
        "words = word_tokenize(Myself_string)"
      ],
      "metadata": {
        "id": "Ar_pAEnK-K_C"
      },
      "execution_count": null,
      "outputs": []
    },
    {
      "cell_type": "code",
      "source": [
        "words"
      ],
      "metadata": {
        "colab": {
          "base_uri": "https://localhost:8080/"
        },
        "id": "iHulQ_de-Rgl",
        "outputId": "78d3be00-55f8-483c-83af-04d8ee262eae"
      },
      "execution_count": null,
      "outputs": [
        {
          "output_type": "execute_result",
          "data": {
            "text/plain": [
              "['Hi',\n",
              " 'Everyone',\n",
              " 'this',\n",
              " 'is',\n",
              " 'Sri',\n",
              " 'Nikhitha',\n",
              " 'Bokka',\n",
              " '.',\n",
              " 'You',\n",
              " 'all',\n",
              " 'can',\n",
              " 'call',\n",
              " 'me',\n",
              " 'Sri',\n",
              " 'or',\n",
              " 'Nikki',\n",
              " '.',\n",
              " 'Currently',\n",
              " 'I',\n",
              " 'am',\n",
              " 'working',\n",
              " 'in',\n",
              " 'software',\n",
              " 'industry',\n",
              " 'and',\n",
              " 'doing',\n",
              " 'masters',\n",
              " 'in',\n",
              " 'AI',\n",
              " '.']"
            ]
          },
          "metadata": {},
          "execution_count": 32
        }
      ]
    },
    {
      "cell_type": "markdown",
      "source": [
        "Here we are using the same set of stop words that are standardily defined in the StopWords library and filtering them from the output of Tokeninzing by Words."
      ],
      "metadata": {
        "id": "Bxywew1BhNDQ"
      }
    },
    {
      "cell_type": "code",
      "source": [
        "stop_words = set(stopwords.words(\"english\"))"
      ],
      "metadata": {
        "id": "eSVqIltC-0oE"
      },
      "execution_count": null,
      "outputs": []
    },
    {
      "cell_type": "code",
      "source": [
        "#List of default stop words defined in NLTK\n",
        "print(stop_words)"
      ],
      "metadata": {
        "colab": {
          "base_uri": "https://localhost:8080/"
        },
        "id": "IFf62WR11lHx",
        "outputId": "e370dd19-04a7-4126-9b6b-8c7ca34f8f5d"
      },
      "execution_count": null,
      "outputs": [
        {
          "output_type": "stream",
          "name": "stdout",
          "text": [
            "{'yourselves', 'was', 'whom', 'over', 'nor', 'very', 'your', \"isn't\", \"you're\", \"you'd\", 'been', 'off', 'me', 'while', 'with', 'further', 'just', 'wasn', 'ma', \"shouldn't\", 'her', 'when', 'having', 'o', 'why', 'mightn', 'against', 'themselves', 'aren', \"didn't\", \"doesn't\", \"needn't\", 'he', 'i', 'how', 'here', 'didn', 'there', 'will', 'his', 'do', 'because', 'now', \"aren't\", 'itself', 'up', 'doing', 'out', 'had', 'that', 'you', 'if', 'only', 'or', 'hers', 'more', 'at', 'shouldn', 'too', 'during', 'won', 'so', 's', 'and', 'they', 'no', 'yours', 'hadn', 'on', 'under', 'ourselves', 'this', \"should've\", 'be', 'did', 'them', 'but', 're', 'were', 'him', 'theirs', 'herself', 'it', 'about', 'wouldn', \"couldn't\", 'which', \"shan't\", 'to', \"you'll\", \"it's\", 'is', \"won't\", 'should', \"haven't\", \"weren't\", 'through', 'we', \"hadn't\", 'once', 'who', \"hasn't\", 'll', 'above', 'of', 'the', \"mustn't\", 'after', 'couldn', 'being', 'into', 'all', 'own', 've', 'a', 'then', 'ain', 'not', 'weren', 'such', 'am', 'down', 'don', 'ours', 'are', 'again', 'my', 'than', 'each', 'hasn', 'does', \"wouldn't\", 'those', 'can', 'our', \"you've\", 'mustn', 'm', \"she's\", 'some', 'in', 'few', 'these', 'same', 'haven', \"don't\", 'y', 'until', \"mightn't\", 'myself', 'doesn', 'shan', 'has', 'between', 'most', 'both', 'their', 'by', 'below', 'any', 'd', 'yourself', 'before', 'as', 'an', 'its', \"wasn't\", 'himself', \"that'll\", 'for', 'isn', 'from', 'have', 't', 'she', 'what', 'other', 'needn', 'where'}\n"
          ]
        }
      ]
    },
    {
      "cell_type": "code",
      "source": [
        "filtered_list = []"
      ],
      "metadata": {
        "id": "G79CKyRE-4K5"
      },
      "execution_count": null,
      "outputs": []
    },
    {
      "cell_type": "code",
      "source": [
        "for word in words:\n",
        "    if word.casefold() not in stop_words:\n",
        "         filtered_list.append(word)"
      ],
      "metadata": {
        "id": "79eZrML5-5tF"
      },
      "execution_count": null,
      "outputs": []
    },
    {
      "cell_type": "code",
      "source": [
        "filtered_list = [\n",
        "...     word for word in words if word.casefold() not in stop_words\n",
        "... ]"
      ],
      "metadata": {
        "id": "qNl5luJw_zyq"
      },
      "execution_count": null,
      "outputs": []
    },
    {
      "cell_type": "code",
      "source": [
        "filtered_list"
      ],
      "metadata": {
        "colab": {
          "base_uri": "https://localhost:8080/"
        },
        "id": "cJjPLiWy_6Vt",
        "outputId": "dc5bc454-48e5-4f33-d1d3-d540052168a0"
      },
      "execution_count": null,
      "outputs": [
        {
          "output_type": "execute_result",
          "data": {
            "text/plain": [
              "['Hi',\n",
              " 'Everyone',\n",
              " 'Sri',\n",
              " 'Nikhitha',\n",
              " 'Bokka',\n",
              " '.',\n",
              " 'call',\n",
              " 'Sri',\n",
              " 'Nikki',\n",
              " '.',\n",
              " 'Currently',\n",
              " 'working',\n",
              " 'software',\n",
              " 'industry',\n",
              " 'masters',\n",
              " 'AI',\n",
              " '.']"
            ]
          },
          "metadata": {},
          "execution_count": 37
        }
      ]
    },
    {
      "cell_type": "markdown",
      "source": [
        "## Stemming\n",
        "Task where we reduce the words in the data to their roots. Following the tutorial, we are using Porter Stemmer from NLTK, A word stemmer based on Porter stemming Algorithm."
      ],
      "metadata": {
        "id": "QnhNxwf7hya4"
      }
    },
    {
      "cell_type": "code",
      "source": [
        "from nltk.stem import PorterStemmer"
      ],
      "metadata": {
        "id": "qvt8RE9f_N2t"
      },
      "execution_count": null,
      "outputs": []
    },
    {
      "cell_type": "code",
      "source": [
        "stemmer = PorterStemmer()"
      ],
      "metadata": {
        "id": "J5DNF10hBmfd"
      },
      "execution_count": null,
      "outputs": []
    },
    {
      "cell_type": "code",
      "source": [
        "words"
      ],
      "metadata": {
        "colab": {
          "base_uri": "https://localhost:8080/"
        },
        "id": "xuCsuHvtEEYW",
        "outputId": "a4b40dfe-9292-4cc8-f440-4187b8ae850d"
      },
      "execution_count": null,
      "outputs": [
        {
          "output_type": "execute_result",
          "data": {
            "text/plain": [
              "['Hi',\n",
              " 'Everyone',\n",
              " 'this',\n",
              " 'is',\n",
              " 'Sri',\n",
              " 'Nikhitha',\n",
              " 'Bokka',\n",
              " '.',\n",
              " 'You',\n",
              " 'all',\n",
              " 'can',\n",
              " 'call',\n",
              " 'me',\n",
              " 'Sri',\n",
              " 'or',\n",
              " 'Nikki',\n",
              " '.',\n",
              " 'Currently',\n",
              " 'I',\n",
              " 'am',\n",
              " 'working',\n",
              " 'in',\n",
              " 'software',\n",
              " 'industry',\n",
              " 'and',\n",
              " 'doing',\n",
              " 'masters',\n",
              " 'in',\n",
              " 'AI',\n",
              " '.']"
            ]
          },
          "metadata": {},
          "execution_count": 40
        }
      ]
    },
    {
      "cell_type": "code",
      "source": [
        "stemmed_words = [stemmer.stem(word) for word in words]"
      ],
      "metadata": {
        "id": "jQkCa32mEIfb"
      },
      "execution_count": null,
      "outputs": []
    },
    {
      "cell_type": "code",
      "source": [
        "stemmed_words"
      ],
      "metadata": {
        "colab": {
          "base_uri": "https://localhost:8080/"
        },
        "id": "QQC1LYjcEQid",
        "outputId": "43b26e8f-a407-4052-f112-c1637322b7da"
      },
      "execution_count": null,
      "outputs": [
        {
          "output_type": "execute_result",
          "data": {
            "text/plain": [
              "['Hi',\n",
              " 'everyon',\n",
              " 'thi',\n",
              " 'is',\n",
              " 'sri',\n",
              " 'nikhitha',\n",
              " 'bokka',\n",
              " '.',\n",
              " 'you',\n",
              " 'all',\n",
              " 'can',\n",
              " 'call',\n",
              " 'me',\n",
              " 'sri',\n",
              " 'or',\n",
              " 'nikki',\n",
              " '.',\n",
              " 'current',\n",
              " 'I',\n",
              " 'am',\n",
              " 'work',\n",
              " 'in',\n",
              " 'softwar',\n",
              " 'industri',\n",
              " 'and',\n",
              " 'do',\n",
              " 'master',\n",
              " 'in',\n",
              " 'AI',\n",
              " '.']"
            ]
          },
          "metadata": {},
          "execution_count": 42
        }
      ]
    },
    {
      "cell_type": "markdown",
      "source": [
        "'everyon',\n",
        " 'thi', 'softwar',\n",
        " 'industri',  These are results of stemming going wrong, There can false negatives and false positives.\n"
      ],
      "metadata": {
        "id": "3IFHNPqhjjhw"
      }
    },
    {
      "cell_type": "markdown",
      "source": [
        "## Tagging Parts of Speech\n",
        "POS tagging is the part of preprocessing that describes for itself, We label the words in the text according to their part of speech.\n"
      ],
      "metadata": {
        "id": "e3yLPD9WkDVc"
      }
    },
    {
      "cell_type": "code",
      "source": [
        "nltk.download('averaged_perceptron_tagger')"
      ],
      "metadata": {
        "colab": {
          "base_uri": "https://localhost:8080/"
        },
        "id": "dFSoj8OSJWTf",
        "outputId": "2f9d8862-2897-453f-da2a-0fe69dbb0679"
      },
      "execution_count": null,
      "outputs": [
        {
          "output_type": "stream",
          "name": "stderr",
          "text": [
            "[nltk_data] Downloading package averaged_perceptron_tagger to\n",
            "[nltk_data]     /root/nltk_data...\n",
            "[nltk_data]   Unzipping taggers/averaged_perceptron_tagger.zip.\n"
          ]
        },
        {
          "output_type": "execute_result",
          "data": {
            "text/plain": [
              "True"
            ]
          },
          "metadata": {},
          "execution_count": 44
        }
      ]
    },
    {
      "cell_type": "code",
      "source": [
        "nltk.download('tagsets')"
      ],
      "metadata": {
        "colab": {
          "base_uri": "https://localhost:8080/"
        },
        "id": "1xVKg0xbKPiW",
        "outputId": "8a648a3a-da23-4ebf-9726-02fd26a7b3c7"
      },
      "execution_count": null,
      "outputs": [
        {
          "output_type": "stream",
          "name": "stderr",
          "text": [
            "[nltk_data] Downloading package tagsets to /root/nltk_data...\n",
            "[nltk_data]   Unzipping help/tagsets.zip.\n"
          ]
        },
        {
          "output_type": "execute_result",
          "data": {
            "text/plain": [
              "True"
            ]
          },
          "metadata": {},
          "execution_count": 46
        }
      ]
    },
    {
      "cell_type": "markdown",
      "source": [
        "below comman shows the full form and meanings of Parts of speech"
      ],
      "metadata": {
        "id": "VrLhIcYBKZna"
      }
    },
    {
      "cell_type": "code",
      "source": [
        "nltk.help.upenn_tagset()"
      ],
      "metadata": {
        "colab": {
          "base_uri": "https://localhost:8080/"
        },
        "id": "vFtNei2jKSn3",
        "outputId": "4be16d48-723a-4c97-dc91-fdbf284e8f72"
      },
      "execution_count": null,
      "outputs": [
        {
          "output_type": "stream",
          "name": "stdout",
          "text": [
            "$: dollar\n",
            "    $ -$ --$ A$ C$ HK$ M$ NZ$ S$ U.S.$ US$\n",
            "'': closing quotation mark\n",
            "    ' ''\n",
            "(: opening parenthesis\n",
            "    ( [ {\n",
            "): closing parenthesis\n",
            "    ) ] }\n",
            ",: comma\n",
            "    ,\n",
            "--: dash\n",
            "    --\n",
            ".: sentence terminator\n",
            "    . ! ?\n",
            ":: colon or ellipsis\n",
            "    : ; ...\n",
            "CC: conjunction, coordinating\n",
            "    & 'n and both but either et for less minus neither nor or plus so\n",
            "    therefore times v. versus vs. whether yet\n",
            "CD: numeral, cardinal\n",
            "    mid-1890 nine-thirty forty-two one-tenth ten million 0.5 one forty-\n",
            "    seven 1987 twenty '79 zero two 78-degrees eighty-four IX '60s .025\n",
            "    fifteen 271,124 dozen quintillion DM2,000 ...\n",
            "DT: determiner\n",
            "    all an another any both del each either every half la many much nary\n",
            "    neither no some such that the them these this those\n",
            "EX: existential there\n",
            "    there\n",
            "FW: foreign word\n",
            "    gemeinschaft hund ich jeux habeas Haementeria Herr K'ang-si vous\n",
            "    lutihaw alai je jour objets salutaris fille quibusdam pas trop Monte\n",
            "    terram fiche oui corporis ...\n",
            "IN: preposition or conjunction, subordinating\n",
            "    astride among uppon whether out inside pro despite on by throughout\n",
            "    below within for towards near behind atop around if like until below\n",
            "    next into if beside ...\n",
            "JJ: adjective or numeral, ordinal\n",
            "    third ill-mannered pre-war regrettable oiled calamitous first separable\n",
            "    ectoplasmic battery-powered participatory fourth still-to-be-named\n",
            "    multilingual multi-disciplinary ...\n",
            "JJR: adjective, comparative\n",
            "    bleaker braver breezier briefer brighter brisker broader bumper busier\n",
            "    calmer cheaper choosier cleaner clearer closer colder commoner costlier\n",
            "    cozier creamier crunchier cuter ...\n",
            "JJS: adjective, superlative\n",
            "    calmest cheapest choicest classiest cleanest clearest closest commonest\n",
            "    corniest costliest crassest creepiest crudest cutest darkest deadliest\n",
            "    dearest deepest densest dinkiest ...\n",
            "LS: list item marker\n",
            "    A A. B B. C C. D E F First G H I J K One SP-44001 SP-44002 SP-44005\n",
            "    SP-44007 Second Third Three Two * a b c d first five four one six three\n",
            "    two\n",
            "MD: modal auxiliary\n",
            "    can cannot could couldn't dare may might must need ought shall should\n",
            "    shouldn't will would\n",
            "NN: noun, common, singular or mass\n",
            "    common-carrier cabbage knuckle-duster Casino afghan shed thermostat\n",
            "    investment slide humour falloff slick wind hyena override subhumanity\n",
            "    machinist ...\n",
            "NNP: noun, proper, singular\n",
            "    Motown Venneboerger Czestochwa Ranzer Conchita Trumplane Christos\n",
            "    Oceanside Escobar Kreisler Sawyer Cougar Yvette Ervin ODI Darryl CTCA\n",
            "    Shannon A.K.C. Meltex Liverpool ...\n",
            "NNPS: noun, proper, plural\n",
            "    Americans Americas Amharas Amityvilles Amusements Anarcho-Syndicalists\n",
            "    Andalusians Andes Andruses Angels Animals Anthony Antilles Antiques\n",
            "    Apache Apaches Apocrypha ...\n",
            "NNS: noun, common, plural\n",
            "    undergraduates scotches bric-a-brac products bodyguards facets coasts\n",
            "    divestitures storehouses designs clubs fragrances averages\n",
            "    subjectivists apprehensions muses factory-jobs ...\n",
            "PDT: pre-determiner\n",
            "    all both half many quite such sure this\n",
            "POS: genitive marker\n",
            "    ' 's\n",
            "PRP: pronoun, personal\n",
            "    hers herself him himself hisself it itself me myself one oneself ours\n",
            "    ourselves ownself self she thee theirs them themselves they thou thy us\n",
            "PRP$: pronoun, possessive\n",
            "    her his mine my our ours their thy your\n",
            "RB: adverb\n",
            "    occasionally unabatingly maddeningly adventurously professedly\n",
            "    stirringly prominently technologically magisterially predominately\n",
            "    swiftly fiscally pitilessly ...\n",
            "RBR: adverb, comparative\n",
            "    further gloomier grander graver greater grimmer harder harsher\n",
            "    healthier heavier higher however larger later leaner lengthier less-\n",
            "    perfectly lesser lonelier longer louder lower more ...\n",
            "RBS: adverb, superlative\n",
            "    best biggest bluntest earliest farthest first furthest hardest\n",
            "    heartiest highest largest least less most nearest second tightest worst\n",
            "RP: particle\n",
            "    aboard about across along apart around aside at away back before behind\n",
            "    by crop down ever fast for forth from go high i.e. in into just later\n",
            "    low more off on open out over per pie raising start teeth that through\n",
            "    under unto up up-pp upon whole with you\n",
            "SYM: symbol\n",
            "    % & ' '' ''. ) ). * + ,. < = > @ A[fj] U.S U.S.S.R * ** ***\n",
            "TO: \"to\" as preposition or infinitive marker\n",
            "    to\n",
            "UH: interjection\n",
            "    Goodbye Goody Gosh Wow Jeepers Jee-sus Hubba Hey Kee-reist Oops amen\n",
            "    huh howdy uh dammit whammo shucks heck anyways whodunnit honey golly\n",
            "    man baby diddle hush sonuvabitch ...\n",
            "VB: verb, base form\n",
            "    ask assemble assess assign assume atone attention avoid bake balkanize\n",
            "    bank begin behold believe bend benefit bevel beware bless boil bomb\n",
            "    boost brace break bring broil brush build ...\n",
            "VBD: verb, past tense\n",
            "    dipped pleaded swiped regummed soaked tidied convened halted registered\n",
            "    cushioned exacted snubbed strode aimed adopted belied figgered\n",
            "    speculated wore appreciated contemplated ...\n",
            "VBG: verb, present participle or gerund\n",
            "    telegraphing stirring focusing angering judging stalling lactating\n",
            "    hankerin' alleging veering capping approaching traveling besieging\n",
            "    encrypting interrupting erasing wincing ...\n",
            "VBN: verb, past participle\n",
            "    multihulled dilapidated aerosolized chaired languished panelized used\n",
            "    experimented flourished imitated reunifed factored condensed sheared\n",
            "    unsettled primed dubbed desired ...\n",
            "VBP: verb, present tense, not 3rd person singular\n",
            "    predominate wrap resort sue twist spill cure lengthen brush terminate\n",
            "    appear tend stray glisten obtain comprise detest tease attract\n",
            "    emphasize mold postpone sever return wag ...\n",
            "VBZ: verb, present tense, 3rd person singular\n",
            "    bases reconstructs marks mixes displeases seals carps weaves snatches\n",
            "    slumps stretches authorizes smolders pictures emerges stockpiles\n",
            "    seduces fizzes uses bolsters slaps speaks pleads ...\n",
            "WDT: WH-determiner\n",
            "    that what whatever which whichever\n",
            "WP: WH-pronoun\n",
            "    that what whatever whatsoever which who whom whosoever\n",
            "WP$: WH-pronoun, possessive\n",
            "    whose\n",
            "WRB: Wh-adverb\n",
            "    how however whence whenever where whereby whereever wherein whereof why\n",
            "``: opening quotation mark\n",
            "    ` ``\n"
          ]
        }
      ]
    },
    {
      "cell_type": "code",
      "source": [
        "nltk.pos_tag(words)"
      ],
      "metadata": {
        "colab": {
          "base_uri": "https://localhost:8080/"
        },
        "id": "JbIEgLS4JC2p",
        "outputId": "9b3260b5-cee1-48f5-b678-ebbbcf10e55e"
      },
      "execution_count": null,
      "outputs": [
        {
          "output_type": "execute_result",
          "data": {
            "text/plain": [
              "[('Hi', 'NNP'),\n",
              " ('Everyone', 'NNP'),\n",
              " ('this', 'DT'),\n",
              " ('is', 'VBZ'),\n",
              " ('Sri', 'NNP'),\n",
              " ('Nikhitha', 'NNP'),\n",
              " ('Bokka', 'NNP'),\n",
              " ('.', '.'),\n",
              " ('You', 'PRP'),\n",
              " ('all', 'DT'),\n",
              " ('can', 'MD'),\n",
              " ('call', 'VB'),\n",
              " ('me', 'PRP'),\n",
              " ('Sri', 'NNP'),\n",
              " ('or', 'CC'),\n",
              " ('Nikki', 'NNP'),\n",
              " ('.', '.'),\n",
              " ('Currently', 'NNP'),\n",
              " ('I', 'PRP'),\n",
              " ('am', 'VBP'),\n",
              " ('working', 'VBG'),\n",
              " ('in', 'IN'),\n",
              " ('software', 'NN'),\n",
              " ('industry', 'NN'),\n",
              " ('and', 'CC'),\n",
              " ('doing', 'VBG'),\n",
              " ('masters', 'NNS'),\n",
              " ('in', 'IN'),\n",
              " ('AI', 'NNP'),\n",
              " ('.', '.')]"
            ]
          },
          "metadata": {},
          "execution_count": 48
        }
      ]
    },
    {
      "cell_type": "markdown",
      "source": [
        "What if the sentence have gibberish words ?"
      ],
      "metadata": {
        "id": "BhqsgeJYO6PO"
      }
    },
    {
      "cell_type": "code",
      "source": [
        "jabberwocky_excerpt = \"\"\"\n",
        "... 'Twas brillig, and the slithy toves did gyre and gimble in the wabe:\n",
        "... all mimsy were the borogoves, and the mome raths outgrabe.\"\"\""
      ],
      "metadata": {
        "id": "dWpHpx-KPBqn"
      },
      "execution_count": null,
      "outputs": []
    },
    {
      "cell_type": "code",
      "source": [
        "words_in_excerpt = word_tokenize(jabberwocky_excerpt)"
      ],
      "metadata": {
        "id": "3wxrlsUyQA6q"
      },
      "execution_count": null,
      "outputs": []
    },
    {
      "cell_type": "code",
      "source": [
        "nltk.pos_tag(words_in_excerpt)"
      ],
      "metadata": {
        "colab": {
          "base_uri": "https://localhost:8080/"
        },
        "id": "0R6oQjEnQNQn",
        "outputId": "8868441a-0168-43ba-8a50-59a34d76d534"
      },
      "execution_count": null,
      "outputs": [
        {
          "output_type": "execute_result",
          "data": {
            "text/plain": [
              "[(\"'Twas\", 'CD'),\n",
              " ('brillig', 'NN'),\n",
              " (',', ','),\n",
              " ('and', 'CC'),\n",
              " ('the', 'DT'),\n",
              " ('slithy', 'JJ'),\n",
              " ('toves', 'NNS'),\n",
              " ('did', 'VBD'),\n",
              " ('gyre', 'NN'),\n",
              " ('and', 'CC'),\n",
              " ('gimble', 'JJ'),\n",
              " ('in', 'IN'),\n",
              " ('the', 'DT'),\n",
              " ('wabe', 'NN'),\n",
              " (':', ':'),\n",
              " ('all', 'DT'),\n",
              " ('mimsy', 'NNS'),\n",
              " ('were', 'VBD'),\n",
              " ('the', 'DT'),\n",
              " ('borogoves', 'NNS'),\n",
              " (',', ','),\n",
              " ('and', 'CC'),\n",
              " ('the', 'DT'),\n",
              " ('mome', 'JJ'),\n",
              " ('raths', 'NNS'),\n",
              " ('outgrabe', 'RB'),\n",
              " ('.', '.')]"
            ]
          },
          "metadata": {},
          "execution_count": 52
        }
      ]
    },
    {
      "cell_type": "markdown",
      "source": [
        "It is interesting how NLTK has categorized few unknown gibberish words into POS."
      ],
      "metadata": {
        "id": "Ij-ugptclv3b"
      }
    },
    {
      "cell_type": "markdown",
      "source": [
        "## Lemmatization\n",
        "\n",
        "Same as Stemming, Reducing words to their core meaning."
      ],
      "metadata": {
        "id": "gUgs94jFmA5S"
      }
    },
    {
      "cell_type": "code",
      "source": [
        "from nltk.stem import WordNetLemmatizer"
      ],
      "metadata": {
        "id": "XnFOXxzPVNF8"
      },
      "execution_count": null,
      "outputs": []
    },
    {
      "cell_type": "code",
      "source": [
        "lemmatizer = WordNetLemmatizer()"
      ],
      "metadata": {
        "id": "v2ofzx9AVRhX"
      },
      "execution_count": null,
      "outputs": []
    },
    {
      "cell_type": "code",
      "source": [
        "nltk.download('wordnet')"
      ],
      "metadata": {
        "colab": {
          "base_uri": "https://localhost:8080/"
        },
        "id": "w_Cf-tPsm_qP",
        "outputId": "632fe9e8-9717-461f-8d29-80552e1e59b6"
      },
      "execution_count": null,
      "outputs": [
        {
          "output_type": "stream",
          "name": "stderr",
          "text": [
            "[nltk_data] Downloading package wordnet to /root/nltk_data...\n"
          ]
        },
        {
          "output_type": "execute_result",
          "data": {
            "text/plain": [
              "True"
            ]
          },
          "metadata": {},
          "execution_count": 52
        }
      ]
    },
    {
      "cell_type": "code",
      "source": [
        "from nltk.stem import WordNetLemmatizer"
      ],
      "metadata": {
        "id": "tg1s1bRVnG4C"
      },
      "execution_count": null,
      "outputs": []
    },
    {
      "cell_type": "code",
      "source": [
        "lemmatizer_sri = WordNetLemmatizer()"
      ],
      "metadata": {
        "id": "trDDuKtZnMIr"
      },
      "execution_count": null,
      "outputs": []
    },
    {
      "cell_type": "markdown",
      "source": [
        "Let's test and see how lemmatizing words for few words,"
      ],
      "metadata": {
        "id": "d8B5VUNWmwTv"
      }
    },
    {
      "cell_type": "code",
      "source": [
        "lemmatizer_sri.lemmatize(\"running\")"
      ],
      "metadata": {
        "colab": {
          "base_uri": "https://localhost:8080/",
          "height": 36
        },
        "id": "b4mqdgrinsO0",
        "outputId": "e2a4a4db-6dc6-4382-b5c5-9c6b694ff3d4"
      },
      "execution_count": null,
      "outputs": [
        {
          "output_type": "execute_result",
          "data": {
            "text/plain": [
              "'running'"
            ],
            "application/vnd.google.colaboratory.intrinsic+json": {
              "type": "string"
            }
          },
          "metadata": {},
          "execution_count": 121
        }
      ]
    },
    {
      "cell_type": "code",
      "source": [
        "lemmatizer_sri.lemmatize(\"scarves\")"
      ],
      "metadata": {
        "colab": {
          "base_uri": "https://localhost:8080/",
          "height": 36
        },
        "id": "XDFUXunqnzH6",
        "outputId": "62a33468-6b98-4d24-c8df-560974959020"
      },
      "execution_count": null,
      "outputs": [
        {
          "output_type": "execute_result",
          "data": {
            "text/plain": [
              "'scarf'"
            ],
            "application/vnd.google.colaboratory.intrinsic+json": {
              "type": "string"
            }
          },
          "metadata": {},
          "execution_count": 122
        }
      ]
    },
    {
      "cell_type": "markdown",
      "source": [
        " The difference between lemmatizing and stemming is visible as lemmatizing returns whole words avoiding false negatives or false positives, Now lets do lemmatizing using POS taggings(parts of speech)"
      ],
      "metadata": {
        "id": "CQnqLoa7CW0w"
      }
    },
    {
      "cell_type": "code",
      "source": [
        "from nltk import pos_tag"
      ],
      "metadata": {
        "id": "P4OyOtHrEsTj"
      },
      "execution_count": null,
      "outputs": []
    },
    {
      "cell_type": "code",
      "source": [
        "tags = pos_tag(words)"
      ],
      "metadata": {
        "id": "bozL9xWJE0Z6"
      },
      "execution_count": null,
      "outputs": []
    },
    {
      "cell_type": "markdown",
      "source": [
        "Functuion to map pos tag to wordnet pos tag"
      ],
      "metadata": {
        "id": "zsZTpmpQFrqu"
      }
    },
    {
      "cell_type": "code",
      "source": [
        "def get_wordnet_pos(tag):\n",
        "    if tag.startswith('Verb'):\n",
        "        return wordnet.VERB\n",
        "    elif tag.startswith('Noun'):\n",
        "        return wordnet.NOUN\n",
        "    elif tag.startswith('Adjective'):\n",
        "        return wordnet.ADJ\n",
        "    else:\n",
        "        return wordnet.NOUN"
      ],
      "metadata": {
        "id": "BhOcsjx0F4O-"
      },
      "execution_count": null,
      "outputs": []
    },
    {
      "cell_type": "markdown",
      "source": [
        "Lemmatizing words using POS tag"
      ],
      "metadata": {
        "id": "-Hz93QunGMnR"
      }
    },
    {
      "cell_type": "code",
      "source": [
        "from nltk.corpus import wordnet"
      ],
      "metadata": {
        "id": "xqzj3LmPHMs1"
      },
      "execution_count": null,
      "outputs": []
    },
    {
      "cell_type": "code",
      "source": [
        "lemmatized_pos_string = [\n",
        "    lemmatizer_Sri.lemmatize(word, pos=get_wordnet_pos(tag)) for word, tag in tags\n",
        "]"
      ],
      "metadata": {
        "id": "cEfqAF8nGZIH"
      },
      "execution_count": null,
      "outputs": []
    },
    {
      "cell_type": "code",
      "source": [
        "print(\"Lemmatized sentence:\", \" \".join(lemmatized_pos_string))"
      ],
      "metadata": {
        "colab": {
          "base_uri": "https://localhost:8080/"
        },
        "id": "Tk0X0olbIWsl",
        "outputId": "321add70-3cda-4673-ceaf-b0580af551c4"
      },
      "execution_count": null,
      "outputs": [
        {
          "output_type": "stream",
          "name": "stdout",
          "text": [
            "Lemmatized sentence: Hi Everyone this is Sri Nikhitha Bokka . You all can call me Sri or Nikki . Currently I am working in software industry and doing master in AI .\n"
          ]
        }
      ]
    },
    {
      "cell_type": "code",
      "source": [
        "lemmatized_with_pos = [(word, tag, get_wordnet_pos(tag)) for word, tag in tags]"
      ],
      "metadata": {
        "id": "1ZXKF8T0JSWO"
      },
      "execution_count": null,
      "outputs": []
    },
    {
      "cell_type": "code",
      "source": [
        "lemmatized_string_with_pos = [\n",
        "    (lemmatizer_Sri.lemmatize(word, pos=pos), tag, pos) for word, tag, pos in lemmatized_with_pos\n",
        "]"
      ],
      "metadata": {
        "id": "ZM9cV0kIHOuS"
      },
      "execution_count": null,
      "outputs": []
    },
    {
      "cell_type": "code",
      "source": [
        "for word, tag, pos in lemmatized_string_with_pos:\n",
        "    print(f\"Word: {word}, POS Tag: {tag}, WordNet POS: {pos}\")"
      ],
      "metadata": {
        "colab": {
          "base_uri": "https://localhost:8080/"
        },
        "id": "W0l8l6zGJW_U",
        "outputId": "15619d48-547f-459e-f6cc-0894cc60fa8f"
      },
      "execution_count": null,
      "outputs": [
        {
          "output_type": "stream",
          "name": "stdout",
          "text": [
            "Word: Hi, POS Tag: NNP, WordNet POS: n\n",
            "Word: Everyone, POS Tag: NNP, WordNet POS: n\n",
            "Word: this, POS Tag: DT, WordNet POS: n\n",
            "Word: is, POS Tag: VBZ, WordNet POS: n\n",
            "Word: Sri, POS Tag: NNP, WordNet POS: n\n",
            "Word: Nikhitha, POS Tag: NNP, WordNet POS: n\n",
            "Word: Bokka, POS Tag: NNP, WordNet POS: n\n",
            "Word: ., POS Tag: ., WordNet POS: n\n",
            "Word: You, POS Tag: PRP, WordNet POS: n\n",
            "Word: all, POS Tag: DT, WordNet POS: n\n",
            "Word: can, POS Tag: MD, WordNet POS: n\n",
            "Word: call, POS Tag: VB, WordNet POS: n\n",
            "Word: me, POS Tag: PRP, WordNet POS: n\n",
            "Word: Sri, POS Tag: NNP, WordNet POS: n\n",
            "Word: or, POS Tag: CC, WordNet POS: n\n",
            "Word: Nikki, POS Tag: NNP, WordNet POS: n\n",
            "Word: ., POS Tag: ., WordNet POS: n\n",
            "Word: Currently, POS Tag: NNP, WordNet POS: n\n",
            "Word: I, POS Tag: PRP, WordNet POS: n\n",
            "Word: am, POS Tag: VBP, WordNet POS: n\n",
            "Word: working, POS Tag: VBG, WordNet POS: n\n",
            "Word: in, POS Tag: IN, WordNet POS: n\n",
            "Word: software, POS Tag: NN, WordNet POS: n\n",
            "Word: industry, POS Tag: NN, WordNet POS: n\n",
            "Word: and, POS Tag: CC, WordNet POS: n\n",
            "Word: doing, POS Tag: VBG, WordNet POS: n\n",
            "Word: master, POS Tag: NNS, WordNet POS: n\n",
            "Word: in, POS Tag: IN, WordNet POS: n\n",
            "Word: AI, POS Tag: NNP, WordNet POS: n\n",
            "Word: ., POS Tag: ., WordNet POS: n\n"
          ]
        }
      ]
    },
    {
      "cell_type": "markdown",
      "source": [
        "## Chunking\n",
        "\n",
        "Chunking group words using POS tags and apply chunk tags to those groups."
      ],
      "metadata": {
        "id": "HlgL5SvvOvVL"
      }
    },
    {
      "cell_type": "code",
      "source": [
        "from nltk.tokenize import word_tokenize"
      ],
      "metadata": {
        "id": "oc9_-2dsPFRc"
      },
      "execution_count": null,
      "outputs": []
    },
    {
      "cell_type": "code",
      "source": [
        "String_quote = \"It's a dangerous business, Frodo, going out your door.\""
      ],
      "metadata": {
        "id": "HEb_OmeeSOuo"
      },
      "execution_count": null,
      "outputs": []
    },
    {
      "cell_type": "code",
      "source": [
        "words_in_String_quote = word_tokenize(String_quote)"
      ],
      "metadata": {
        "id": "OlP44UcaSSlF"
      },
      "execution_count": null,
      "outputs": []
    },
    {
      "cell_type": "code",
      "source": [
        "words_in_String_quote"
      ],
      "metadata": {
        "colab": {
          "base_uri": "https://localhost:8080/"
        },
        "id": "4SwYJ7TGSa0H",
        "outputId": "fdd86489-3934-4290-b2bd-085ebe29ee33"
      },
      "execution_count": null,
      "outputs": [
        {
          "output_type": "execute_result",
          "data": {
            "text/plain": [
              "['It',\n",
              " \"'s\",\n",
              " 'a',\n",
              " 'dangerous',\n",
              " 'business',\n",
              " ',',\n",
              " 'Frodo',\n",
              " ',',\n",
              " 'going',\n",
              " 'out',\n",
              " 'your',\n",
              " 'door',\n",
              " '.']"
            ]
          },
          "metadata": {},
          "execution_count": 104
        }
      ]
    },
    {
      "cell_type": "code",
      "source": [
        "nltk.download(\"averaged_perceptron_tagger\")"
      ],
      "metadata": {
        "colab": {
          "base_uri": "https://localhost:8080/"
        },
        "id": "QznBdGKXSuxx",
        "outputId": "75c20358-c39b-4f73-e6a9-fefa4e0186fb"
      },
      "execution_count": null,
      "outputs": [
        {
          "output_type": "stream",
          "name": "stderr",
          "text": [
            "[nltk_data] Downloading package averaged_perceptron_tagger to\n",
            "[nltk_data]     /root/nltk_data...\n",
            "[nltk_data]   Package averaged_perceptron_tagger is already up-to-\n",
            "[nltk_data]       date!\n"
          ]
        },
        {
          "output_type": "execute_result",
          "data": {
            "text/plain": [
              "True"
            ]
          },
          "metadata": {},
          "execution_count": 105
        }
      ]
    },
    {
      "cell_type": "code",
      "source": [
        "String_pos_tags = nltk.pos_tag(words)"
      ],
      "metadata": {
        "id": "9mKsRVxqS2XP"
      },
      "execution_count": null,
      "outputs": []
    },
    {
      "cell_type": "code",
      "source": [
        "String_pos_tags"
      ],
      "metadata": {
        "colab": {
          "base_uri": "https://localhost:8080/"
        },
        "id": "FN74RSnCS7vP",
        "outputId": "f26daa13-2152-4dac-a1d0-c075eaaeb313"
      },
      "execution_count": null,
      "outputs": [
        {
          "output_type": "execute_result",
          "data": {
            "text/plain": [
              "[('Hi', 'NNP'),\n",
              " ('Everyone', 'NNP'),\n",
              " ('this', 'DT'),\n",
              " ('is', 'VBZ'),\n",
              " ('Sri', 'NNP'),\n",
              " ('Nikhitha', 'NNP'),\n",
              " ('Bokka', 'NNP'),\n",
              " ('.', '.'),\n",
              " ('You', 'PRP'),\n",
              " ('all', 'DT'),\n",
              " ('can', 'MD'),\n",
              " ('call', 'VB'),\n",
              " ('me', 'PRP'),\n",
              " ('Sri', 'NNP'),\n",
              " ('or', 'CC'),\n",
              " ('Nikki', 'NNP'),\n",
              " ('.', '.'),\n",
              " ('Currently', 'NNP'),\n",
              " ('I', 'PRP'),\n",
              " ('am', 'VBP'),\n",
              " ('working', 'VBG'),\n",
              " ('in', 'IN'),\n",
              " ('software', 'NN'),\n",
              " ('industry', 'NN'),\n",
              " ('and', 'CC'),\n",
              " ('doing', 'VBG'),\n",
              " ('masters', 'NNS'),\n",
              " ('in', 'IN'),\n",
              " ('AI', 'NNP'),\n",
              " ('.', '.')]"
            ]
          },
          "metadata": {},
          "execution_count": 68
        }
      ]
    },
    {
      "cell_type": "markdown",
      "source": [
        "Chunk grammer expression"
      ],
      "metadata": {
        "id": "6r234hSeTE8A"
      }
    },
    {
      "cell_type": "code",
      "source": [
        "grammar_expression = \"NP: {<DT>?<JJ>*<NN>}\""
      ],
      "metadata": {
        "id": "ras0_SxYTH6u"
      },
      "execution_count": null,
      "outputs": []
    },
    {
      "cell_type": "code",
      "source": [
        "chunk_parser = nltk.RegexpParser(grammar_expression)"
      ],
      "metadata": {
        "id": "tx3nSt1xTJ02"
      },
      "execution_count": null,
      "outputs": []
    },
    {
      "cell_type": "code",
      "source": [
        "tree = chunk_parser.parse(String_pos_tags)"
      ],
      "metadata": {
        "id": "x9y5qv9mTUlp"
      },
      "execution_count": null,
      "outputs": []
    },
    {
      "cell_type": "code",
      "source": [
        "tree.draw()"
      ],
      "metadata": {
        "colab": {
          "base_uri": "https://localhost:8080/",
          "height": 287
        },
        "id": "xBoyhAO_Tnua",
        "outputId": "680c82b5-4ab2-4c2f-a9f2-01cab8e98dd8"
      },
      "execution_count": null,
      "outputs": [
        {
          "output_type": "error",
          "ename": "TclError",
          "evalue": "no display name and no $DISPLAY environment variable",
          "traceback": [
            "\u001b[0;31m---------------------------------------------------------------------------\u001b[0m",
            "\u001b[0;31mTclError\u001b[0m                                  Traceback (most recent call last)",
            "\u001b[0;32m<ipython-input-72-aab2399725d5>\u001b[0m in \u001b[0;36m<cell line: 0>\u001b[0;34m()\u001b[0m\n\u001b[0;32m----> 1\u001b[0;31m \u001b[0mtree\u001b[0m\u001b[0;34m.\u001b[0m\u001b[0mdraw\u001b[0m\u001b[0;34m(\u001b[0m\u001b[0;34m)\u001b[0m\u001b[0;34m\u001b[0m\u001b[0;34m\u001b[0m\u001b[0m\n\u001b[0m",
            "\u001b[0;32m/usr/local/lib/python3.11/dist-packages/nltk/tree.py\u001b[0m in \u001b[0;36mdraw\u001b[0;34m(self)\u001b[0m\n\u001b[1;32m    748\u001b[0m         \u001b[0;32mfrom\u001b[0m \u001b[0mnltk\u001b[0m\u001b[0;34m.\u001b[0m\u001b[0mdraw\u001b[0m\u001b[0;34m.\u001b[0m\u001b[0mtree\u001b[0m \u001b[0;32mimport\u001b[0m \u001b[0mdraw_trees\u001b[0m\u001b[0;34m\u001b[0m\u001b[0;34m\u001b[0m\u001b[0m\n\u001b[1;32m    749\u001b[0m \u001b[0;34m\u001b[0m\u001b[0m\n\u001b[0;32m--> 750\u001b[0;31m         \u001b[0mdraw_trees\u001b[0m\u001b[0;34m(\u001b[0m\u001b[0mself\u001b[0m\u001b[0;34m)\u001b[0m\u001b[0;34m\u001b[0m\u001b[0;34m\u001b[0m\u001b[0m\n\u001b[0m\u001b[1;32m    751\u001b[0m \u001b[0;34m\u001b[0m\u001b[0m\n\u001b[1;32m    752\u001b[0m     \u001b[0;32mdef\u001b[0m \u001b[0mpretty_print\u001b[0m\u001b[0;34m(\u001b[0m\u001b[0mself\u001b[0m\u001b[0;34m,\u001b[0m \u001b[0msentence\u001b[0m\u001b[0;34m=\u001b[0m\u001b[0;32mNone\u001b[0m\u001b[0;34m,\u001b[0m \u001b[0mhighlight\u001b[0m\u001b[0;34m=\u001b[0m\u001b[0;34m(\u001b[0m\u001b[0;34m)\u001b[0m\u001b[0;34m,\u001b[0m \u001b[0mstream\u001b[0m\u001b[0;34m=\u001b[0m\u001b[0;32mNone\u001b[0m\u001b[0;34m,\u001b[0m \u001b[0;34m**\u001b[0m\u001b[0mkwargs\u001b[0m\u001b[0;34m)\u001b[0m\u001b[0;34m:\u001b[0m\u001b[0;34m\u001b[0m\u001b[0;34m\u001b[0m\u001b[0m\n",
            "\u001b[0;32m/usr/local/lib/python3.11/dist-packages/nltk/draw/tree.py\u001b[0m in \u001b[0;36mdraw_trees\u001b[0;34m(*trees)\u001b[0m\n\u001b[1;32m   1006\u001b[0m     \u001b[0;34m:\u001b[0m\u001b[0mrtype\u001b[0m\u001b[0;34m:\u001b[0m \u001b[0;32mNone\u001b[0m\u001b[0;34m\u001b[0m\u001b[0;34m\u001b[0m\u001b[0m\n\u001b[1;32m   1007\u001b[0m     \"\"\"\n\u001b[0;32m-> 1008\u001b[0;31m     \u001b[0mTreeView\u001b[0m\u001b[0;34m(\u001b[0m\u001b[0;34m*\u001b[0m\u001b[0mtrees\u001b[0m\u001b[0;34m)\u001b[0m\u001b[0;34m.\u001b[0m\u001b[0mmainloop\u001b[0m\u001b[0;34m(\u001b[0m\u001b[0;34m)\u001b[0m\u001b[0;34m\u001b[0m\u001b[0;34m\u001b[0m\u001b[0m\n\u001b[0m\u001b[1;32m   1009\u001b[0m     \u001b[0;32mreturn\u001b[0m\u001b[0;34m\u001b[0m\u001b[0;34m\u001b[0m\u001b[0m\n\u001b[1;32m   1010\u001b[0m \u001b[0;34m\u001b[0m\u001b[0m\n",
            "\u001b[0;32m/usr/local/lib/python3.11/dist-packages/nltk/draw/tree.py\u001b[0m in \u001b[0;36m__init__\u001b[0;34m(self, *trees)\u001b[0m\n\u001b[1;32m    857\u001b[0m         \u001b[0mself\u001b[0m\u001b[0;34m.\u001b[0m\u001b[0m_trees\u001b[0m \u001b[0;34m=\u001b[0m \u001b[0mtrees\u001b[0m\u001b[0;34m\u001b[0m\u001b[0;34m\u001b[0m\u001b[0m\n\u001b[1;32m    858\u001b[0m \u001b[0;34m\u001b[0m\u001b[0m\n\u001b[0;32m--> 859\u001b[0;31m         \u001b[0mself\u001b[0m\u001b[0;34m.\u001b[0m\u001b[0m_top\u001b[0m \u001b[0;34m=\u001b[0m \u001b[0mTk\u001b[0m\u001b[0;34m(\u001b[0m\u001b[0;34m)\u001b[0m\u001b[0;34m\u001b[0m\u001b[0;34m\u001b[0m\u001b[0m\n\u001b[0m\u001b[1;32m    860\u001b[0m         \u001b[0mself\u001b[0m\u001b[0;34m.\u001b[0m\u001b[0m_top\u001b[0m\u001b[0;34m.\u001b[0m\u001b[0mtitle\u001b[0m\u001b[0;34m(\u001b[0m\u001b[0;34m\"NLTK\"\u001b[0m\u001b[0;34m)\u001b[0m\u001b[0;34m\u001b[0m\u001b[0;34m\u001b[0m\u001b[0m\n\u001b[1;32m    861\u001b[0m         \u001b[0mself\u001b[0m\u001b[0;34m.\u001b[0m\u001b[0m_top\u001b[0m\u001b[0;34m.\u001b[0m\u001b[0mbind\u001b[0m\u001b[0;34m(\u001b[0m\u001b[0;34m\"<Control-x>\"\u001b[0m\u001b[0;34m,\u001b[0m \u001b[0mself\u001b[0m\u001b[0;34m.\u001b[0m\u001b[0mdestroy\u001b[0m\u001b[0;34m)\u001b[0m\u001b[0;34m\u001b[0m\u001b[0;34m\u001b[0m\u001b[0m\n",
            "\u001b[0;32m/usr/lib/python3.11/tkinter/__init__.py\u001b[0m in \u001b[0;36m__init__\u001b[0;34m(self, screenName, baseName, className, useTk, sync, use)\u001b[0m\n\u001b[1;32m   2324\u001b[0m                 \u001b[0mbaseName\u001b[0m \u001b[0;34m=\u001b[0m \u001b[0mbaseName\u001b[0m \u001b[0;34m+\u001b[0m \u001b[0mext\u001b[0m\u001b[0;34m\u001b[0m\u001b[0;34m\u001b[0m\u001b[0m\n\u001b[1;32m   2325\u001b[0m         \u001b[0minteractive\u001b[0m \u001b[0;34m=\u001b[0m \u001b[0;32mFalse\u001b[0m\u001b[0;34m\u001b[0m\u001b[0;34m\u001b[0m\u001b[0m\n\u001b[0;32m-> 2326\u001b[0;31m         \u001b[0mself\u001b[0m\u001b[0;34m.\u001b[0m\u001b[0mtk\u001b[0m \u001b[0;34m=\u001b[0m \u001b[0m_tkinter\u001b[0m\u001b[0;34m.\u001b[0m\u001b[0mcreate\u001b[0m\u001b[0;34m(\u001b[0m\u001b[0mscreenName\u001b[0m\u001b[0;34m,\u001b[0m \u001b[0mbaseName\u001b[0m\u001b[0;34m,\u001b[0m \u001b[0mclassName\u001b[0m\u001b[0;34m,\u001b[0m \u001b[0minteractive\u001b[0m\u001b[0;34m,\u001b[0m \u001b[0mwantobjects\u001b[0m\u001b[0;34m,\u001b[0m \u001b[0museTk\u001b[0m\u001b[0;34m,\u001b[0m \u001b[0msync\u001b[0m\u001b[0;34m,\u001b[0m \u001b[0muse\u001b[0m\u001b[0;34m)\u001b[0m\u001b[0;34m\u001b[0m\u001b[0;34m\u001b[0m\u001b[0m\n\u001b[0m\u001b[1;32m   2327\u001b[0m         \u001b[0;32mif\u001b[0m \u001b[0museTk\u001b[0m\u001b[0;34m:\u001b[0m\u001b[0;34m\u001b[0m\u001b[0;34m\u001b[0m\u001b[0m\n\u001b[1;32m   2328\u001b[0m             \u001b[0mself\u001b[0m\u001b[0;34m.\u001b[0m\u001b[0m_loadtk\u001b[0m\u001b[0;34m(\u001b[0m\u001b[0;34m)\u001b[0m\u001b[0;34m\u001b[0m\u001b[0;34m\u001b[0m\u001b[0m\n",
            "\u001b[0;31mTclError\u001b[0m: no display name and no $DISPLAY environment variable"
          ]
        }
      ]
    },
    {
      "cell_type": "code",
      "source": [
        "#tree.draw() doesn't work in google colab\n",
        "print(tree.pretty_print())"
      ],
      "metadata": {
        "colab": {
          "base_uri": "https://localhost:8080/"
        },
        "id": "y5LP0EwjT6bI",
        "outputId": "b42decdd-410e-4fa3-c783-34de9db64fc9"
      },
      "execution_count": null,
      "outputs": [
        {
          "output_type": "stream",
          "name": "stdout",
          "text": [
            "                                                                                                              S                                                                                                                                          \n",
            "   ___________________________________________________________________________________________________________|_____________________________________________________________________________________________________________________________________      \n",
            "  |         |          |      |     |     |      |      |       |      |       |      |    |        |         |     |         |        |        |           |        |        |          |        |     |     |               NE                    NE   \n",
            "  |         |          |      |     |     |      |      |       |      |       |      |    |        |         |     |         |        |        |           |        |        |          |        |     |     |      _________|___________          |     \n",
            "Hi/NNP Everyone/NNP this/DT is/VBZ ./. You/PRP all/DT can/MD call/VB me/PRP Sri/NNP or/CC ./. Currently/NNP I/PRP am/VBP working/VBG in/IN software/NN industry/NN and/CC doing/VBG masters/NNS in/IN AI/NNP ./. Sri/NNP Nikhitha/NNP Bokka/NNP Nikki/NNP\n",
            "\n",
            "None\n"
          ]
        }
      ]
    },
    {
      "cell_type": "markdown",
      "source": [
        "## Chinking\n",
        "\n",
        "Chinking is used together with chunking, but while chunking is used to include a pattern, chinking is used to exclude a pattern."
      ],
      "metadata": {
        "id": "JizzBGccUc8Q"
      }
    },
    {
      "cell_type": "code",
      "source": [
        "String_pos_tags"
      ],
      "metadata": {
        "colab": {
          "base_uri": "https://localhost:8080/"
        },
        "id": "2Y4Wa6WbUfLp",
        "outputId": "ff5d272e-81c3-4268-d93f-1dc531eaf750"
      },
      "execution_count": null,
      "outputs": [
        {
          "output_type": "execute_result",
          "data": {
            "text/plain": [
              "[('Hi', 'NNP'),\n",
              " ('Everyone', 'NNP'),\n",
              " ('this', 'DT'),\n",
              " ('is', 'VBZ'),\n",
              " ('Sri', 'NNP'),\n",
              " ('Nikhitha', 'NNP'),\n",
              " ('Bokka', 'NNP'),\n",
              " ('.', '.'),\n",
              " ('You', 'PRP'),\n",
              " ('all', 'DT'),\n",
              " ('can', 'MD'),\n",
              " ('call', 'VB'),\n",
              " ('me', 'PRP'),\n",
              " ('Sri', 'NNP'),\n",
              " ('or', 'CC'),\n",
              " ('Nikki', 'NNP'),\n",
              " ('.', '.'),\n",
              " ('Currently', 'NNP'),\n",
              " ('I', 'PRP'),\n",
              " ('am', 'VBP'),\n",
              " ('working', 'VBG'),\n",
              " ('in', 'IN'),\n",
              " ('software', 'NN'),\n",
              " ('industry', 'NN'),\n",
              " ('and', 'CC'),\n",
              " ('doing', 'VBG'),\n",
              " ('masters', 'NNS'),\n",
              " ('in', 'IN'),\n",
              " ('AI', 'NNP'),\n",
              " ('.', '.')]"
            ]
          },
          "metadata": {},
          "execution_count": 134
        }
      ]
    },
    {
      "cell_type": "code",
      "source": [
        "grammar_expression = \"\"\"\n",
        "... Chunk: {<.*>+}\n",
        "...        }<JJ>{\"\"\""
      ],
      "metadata": {
        "id": "6OEBFSBJVgtO"
      },
      "execution_count": null,
      "outputs": []
    },
    {
      "cell_type": "code",
      "source": [
        "chunk_parser = nltk.RegexpParser(grammar_expression)"
      ],
      "metadata": {
        "id": "ZUpe2KyOVkcJ"
      },
      "execution_count": null,
      "outputs": []
    },
    {
      "cell_type": "code",
      "source": [
        "tree = chunk_parser.parse(String_pos_tags)"
      ],
      "metadata": {
        "id": "7zPvtWz4VqEU"
      },
      "execution_count": null,
      "outputs": []
    },
    {
      "cell_type": "code",
      "source": [
        "print(tree.pretty_print())"
      ],
      "metadata": {
        "colab": {
          "base_uri": "https://localhost:8080/"
        },
        "id": "WO-23Lp0V8sa",
        "outputId": "07430ed0-7474-4f74-f9a2-d9a0d65a31fa"
      },
      "execution_count": null,
      "outputs": [
        {
          "output_type": "stream",
          "name": "stdout",
          "text": [
            "                                                                                                                     S                                                                                                                                   \n",
            "   __________________________________________________________________________________________________________________|_____________________________________________________________________________________________________________________________       \n",
            "  |         |          |      |       |         |           |      |     |      |      |       |      |       |      |       |      |        |         |     |         |        |     |        |          |        |     |     |       NP          NP    \n",
            "  |         |          |      |       |         |           |      |     |      |      |       |      |       |      |       |      |        |         |     |         |        |     |        |          |        |     |     |       |           |      \n",
            "Hi/NNP Everyone/NNP this/DT is/VBZ Sri/NNP Nikhitha/NNP Bokka/NNP ./. You/PRP all/DT can/MD call/VB me/PRP Sri/NNP or/CC Nikki/NNP ./. Currently/NNP I/PRP am/VBP working/VBG in/IN and/CC doing/VBG masters/NNS in/IN AI/NNP ./. software/NN industry/NN\n",
            "\n",
            "None\n"
          ]
        }
      ]
    },
    {
      "cell_type": "markdown",
      "source": [
        "##Named Entity Recognition (NER)\n",
        "\n",
        "Named entity recognition let's you to find named entities in your texts and determine what kind of named entity they are like Date, Person, Time etc."
      ],
      "metadata": {
        "id": "CYZFWIunWLDT"
      }
    },
    {
      "cell_type": "code",
      "source": [
        "nltk.download(\"maxent_ne_chunker\")"
      ],
      "metadata": {
        "colab": {
          "base_uri": "https://localhost:8080/"
        },
        "id": "pMqGENplWMW8",
        "outputId": "f70cc1f2-9d18-44d2-d463-1ff8304e9ffa"
      },
      "execution_count": null,
      "outputs": [
        {
          "output_type": "stream",
          "name": "stderr",
          "text": [
            "[nltk_data] Downloading package maxent_ne_chunker to\n",
            "[nltk_data]     /root/nltk_data...\n",
            "[nltk_data]   Unzipping chunkers/maxent_ne_chunker.zip.\n"
          ]
        },
        {
          "output_type": "execute_result",
          "data": {
            "text/plain": [
              "True"
            ]
          },
          "metadata": {},
          "execution_count": 78
        }
      ]
    },
    {
      "cell_type": "code",
      "source": [
        "nltk.download(\"words\")"
      ],
      "metadata": {
        "colab": {
          "base_uri": "https://localhost:8080/"
        },
        "id": "Hamld2rlccCK",
        "outputId": "598819bc-82cb-420e-a774-87443b5d2a63"
      },
      "execution_count": null,
      "outputs": [
        {
          "output_type": "stream",
          "name": "stderr",
          "text": [
            "[nltk_data] Downloading package words to /root/nltk_data...\n",
            "[nltk_data]   Unzipping corpora/words.zip.\n"
          ]
        },
        {
          "output_type": "execute_result",
          "data": {
            "text/plain": [
              "True"
            ]
          },
          "metadata": {},
          "execution_count": 79
        }
      ]
    },
    {
      "cell_type": "code",
      "source": [
        "tree = nltk.ne_chunk(String_pos_tags)"
      ],
      "metadata": {
        "id": "3-yuVVftciPA"
      },
      "execution_count": null,
      "outputs": []
    },
    {
      "cell_type": "code",
      "source": [
        "print(tree.pretty_print())"
      ],
      "metadata": {
        "colab": {
          "base_uri": "https://localhost:8080/"
        },
        "id": "ZRTouL0mcozA",
        "outputId": "af7b5b53-152a-4df0-f9b1-d1d1badfbcd3"
      },
      "execution_count": null,
      "outputs": [
        {
          "output_type": "stream",
          "name": "stdout",
          "text": [
            "                                                                                                              S                                                                                                                                          \n",
            "   ___________________________________________________________________________________________________________|_____________________________________________________________________________________________________________________________________      \n",
            "  |         |          |      |     |     |      |      |       |      |       |      |    |        |         |     |         |        |        |           |        |        |          |        |     |     |             PERSON                 GPE   \n",
            "  |         |          |      |     |     |      |      |       |      |       |      |    |        |         |     |         |        |        |           |        |        |          |        |     |     |      _________|___________          |     \n",
            "Hi/NNP Everyone/NNP this/DT is/VBZ ./. You/PRP all/DT can/MD call/VB me/PRP Sri/NNP or/CC ./. Currently/NNP I/PRP am/VBP working/VBG in/IN software/NN industry/NN and/CC doing/VBG masters/NNS in/IN AI/NNP ./. Sri/NNP Nikhitha/NNP Bokka/NNP Nikki/NNP\n",
            "\n",
            "None\n"
          ]
        }
      ]
    },
    {
      "cell_type": "code",
      "source": [
        "tree = nltk.ne_chunk(String_pos_tags, binary=True)"
      ],
      "metadata": {
        "id": "Te-coYp1ct2k"
      },
      "execution_count": null,
      "outputs": []
    },
    {
      "cell_type": "code",
      "source": [
        "print(tree.pretty_print())"
      ],
      "metadata": {
        "colab": {
          "base_uri": "https://localhost:8080/"
        },
        "id": "RUf4SGydcy3S",
        "outputId": "0e9997c9-256d-49e6-c849-6d8103614caa"
      },
      "execution_count": null,
      "outputs": [
        {
          "output_type": "stream",
          "name": "stdout",
          "text": [
            "                                                                                                              S                                                                                                                                          \n",
            "   ___________________________________________________________________________________________________________|_____________________________________________________________________________________________________________________________________      \n",
            "  |         |          |      |     |     |      |      |       |      |       |      |    |        |         |     |         |        |        |           |        |        |          |        |     |     |               NE                    NE   \n",
            "  |         |          |      |     |     |      |      |       |      |       |      |    |        |         |     |         |        |        |           |        |        |          |        |     |     |      _________|___________          |     \n",
            "Hi/NNP Everyone/NNP this/DT is/VBZ ./. You/PRP all/DT can/MD call/VB me/PRP Sri/NNP or/CC ./. Currently/NNP I/PRP am/VBP working/VBG in/IN software/NN industry/NN and/CC doing/VBG masters/NNS in/IN AI/NNP ./. Sri/NNP Nikhitha/NNP Bokka/NNP Nikki/NNP\n",
            "\n",
            "None\n"
          ]
        }
      ]
    },
    {
      "cell_type": "markdown",
      "source": [
        "Function to extract named entities in our string\n"
      ],
      "metadata": {
        "id": "CMcoRCYbuz2z"
      }
    },
    {
      "cell_type": "code",
      "source": [
        "def extract_ne(quote):\n",
        "...     words = word_tokenize(quote, language=language)\n",
        "...     tags = nltk.pos_tag(words)\n",
        "...     tree = nltk.ne_chunk(tags, binary=True)\n",
        "...     return set(\n",
        "...         \" \".join(i[0] for i in t)\n",
        "...         for t in tree\n",
        "...         if hasattr(t, \"label\") and t.label() == \"NE\"\n",
        "...     )"
      ],
      "metadata": {
        "id": "Ea9U91goeESL"
      },
      "execution_count": null,
      "outputs": []
    },
    {
      "cell_type": "code",
      "source": [
        "#Named entities in our string:\n",
        "extract_ne(Myself_string)"
      ],
      "metadata": {
        "colab": {
          "base_uri": "https://localhost:8080/"
        },
        "id": "ISFl245Uuhxx",
        "outputId": "6195ab2a-3992-4b37-a6ed-52054514a5ec"
      },
      "execution_count": null,
      "outputs": [
        {
          "output_type": "execute_result",
          "data": {
            "text/plain": [
              "{'Nikki', 'Sri Nikhitha Bokka'}"
            ]
          },
          "metadata": {},
          "execution_count": 123
        }
      ]
    },
    {
      "cell_type": "code",
      "source": [
        "def extract_ne(quote, language='English'):\n",
        "...     words = word_tokenize(quote, language=language)\n",
        "...     tags = nltk.pos_tag(words)\n",
        "...     tree = nltk.ne_chunk(tags, binary=True)\n",
        "...     return set(\n",
        "...         \" \".join(i[0] for i in t)\n",
        "...         for t in tree\n",
        "...         if hasattr(t, \"label\") and t.label() == \"NE\"\n",
        "...     )"
      ],
      "metadata": {
        "id": "G-bQfgo_huUz"
      },
      "execution_count": null,
      "outputs": []
    },
    {
      "cell_type": "code",
      "source": [
        " extract_ne(Myself_string)"
      ],
      "metadata": {
        "colab": {
          "base_uri": "https://localhost:8080/",
          "height": 668
        },
        "id": "CWdxQuxrh1kD",
        "outputId": "09a444f1-344b-44df-932f-5538b6a2993f"
      },
      "execution_count": null,
      "outputs": [
        {
          "output_type": "error",
          "ename": "LookupError",
          "evalue": "\n**********************************************************************\n  Resource \u001b[93mpunkt\u001b[0m not found.\n  Please use the NLTK Downloader to obtain the resource:\n\n  \u001b[31m>>> import nltk\n  >>> nltk.download('punkt')\n  \u001b[0m\n  For more information see: https://www.nltk.org/data.html\n\n  Attempted to load \u001b[93mtokenizers/punkt/PY3/English.pickle\u001b[0m\n\n  Searched in:\n    - '/root/nltk_data'\n    - '/usr/nltk_data'\n    - '/usr/share/nltk_data'\n    - '/usr/lib/nltk_data'\n    - '/usr/share/nltk_data'\n    - '/usr/local/share/nltk_data'\n    - '/usr/lib/nltk_data'\n    - '/usr/local/lib/nltk_data'\n    - ''\n**********************************************************************\n",
          "traceback": [
            "\u001b[0;31m---------------------------------------------------------------------------\u001b[0m",
            "\u001b[0;31mLookupError\u001b[0m                               Traceback (most recent call last)",
            "\u001b[0;32m<ipython-input-88-7a0985c27ed0>\u001b[0m in \u001b[0;36m<cell line: 0>\u001b[0;34m()\u001b[0m\n\u001b[0;32m----> 1\u001b[0;31m \u001b[0mextract_ne\u001b[0m\u001b[0;34m(\u001b[0m\u001b[0mMyself_string\u001b[0m\u001b[0;34m)\u001b[0m\u001b[0;34m\u001b[0m\u001b[0;34m\u001b[0m\u001b[0m\n\u001b[0m",
            "\u001b[0;32m<ipython-input-87-cd31a99dcca7>\u001b[0m in \u001b[0;36mextract_ne\u001b[0;34m(quote, language)\u001b[0m\n\u001b[1;32m      1\u001b[0m \u001b[0;32mdef\u001b[0m \u001b[0mextract_ne\u001b[0m\u001b[0;34m(\u001b[0m\u001b[0mquote\u001b[0m\u001b[0;34m,\u001b[0m \u001b[0mlanguage\u001b[0m\u001b[0;34m=\u001b[0m\u001b[0;34m'English'\u001b[0m\u001b[0;34m)\u001b[0m\u001b[0;34m:\u001b[0m\u001b[0;34m\u001b[0m\u001b[0;34m\u001b[0m\u001b[0m\n\u001b[0;32m----> 2\u001b[0;31m     \u001b[0mwords\u001b[0m \u001b[0;34m=\u001b[0m \u001b[0mword_tokenize\u001b[0m\u001b[0;34m(\u001b[0m\u001b[0mquote\u001b[0m\u001b[0;34m,\u001b[0m \u001b[0mlanguage\u001b[0m\u001b[0;34m=\u001b[0m\u001b[0mlanguage\u001b[0m\u001b[0;34m)\u001b[0m\u001b[0;34m\u001b[0m\u001b[0;34m\u001b[0m\u001b[0m\n\u001b[0m\u001b[1;32m      3\u001b[0m     \u001b[0mtags\u001b[0m \u001b[0;34m=\u001b[0m \u001b[0mnltk\u001b[0m\u001b[0;34m.\u001b[0m\u001b[0mpos_tag\u001b[0m\u001b[0;34m(\u001b[0m\u001b[0mwords\u001b[0m\u001b[0;34m)\u001b[0m\u001b[0;34m\u001b[0m\u001b[0;34m\u001b[0m\u001b[0m\n\u001b[1;32m      4\u001b[0m     \u001b[0mtree\u001b[0m \u001b[0;34m=\u001b[0m \u001b[0mnltk\u001b[0m\u001b[0;34m.\u001b[0m\u001b[0mne_chunk\u001b[0m\u001b[0;34m(\u001b[0m\u001b[0mtags\u001b[0m\u001b[0;34m,\u001b[0m \u001b[0mbinary\u001b[0m\u001b[0;34m=\u001b[0m\u001b[0;32mTrue\u001b[0m\u001b[0;34m)\u001b[0m\u001b[0;34m\u001b[0m\u001b[0;34m\u001b[0m\u001b[0m\n\u001b[1;32m      5\u001b[0m     return set(\n",
            "\u001b[0;32m/usr/local/lib/python3.11/dist-packages/nltk/tokenize/__init__.py\u001b[0m in \u001b[0;36mword_tokenize\u001b[0;34m(text, language, preserve_line)\u001b[0m\n\u001b[1;32m    127\u001b[0m     \u001b[0;34m:\u001b[0m\u001b[0mtype\u001b[0m \u001b[0mpreserve_line\u001b[0m\u001b[0;34m:\u001b[0m \u001b[0mbool\u001b[0m\u001b[0;34m\u001b[0m\u001b[0;34m\u001b[0m\u001b[0m\n\u001b[1;32m    128\u001b[0m     \"\"\"\n\u001b[0;32m--> 129\u001b[0;31m     \u001b[0msentences\u001b[0m \u001b[0;34m=\u001b[0m \u001b[0;34m[\u001b[0m\u001b[0mtext\u001b[0m\u001b[0;34m]\u001b[0m \u001b[0;32mif\u001b[0m \u001b[0mpreserve_line\u001b[0m \u001b[0;32melse\u001b[0m \u001b[0msent_tokenize\u001b[0m\u001b[0;34m(\u001b[0m\u001b[0mtext\u001b[0m\u001b[0;34m,\u001b[0m \u001b[0mlanguage\u001b[0m\u001b[0;34m)\u001b[0m\u001b[0;34m\u001b[0m\u001b[0;34m\u001b[0m\u001b[0m\n\u001b[0m\u001b[1;32m    130\u001b[0m     return [\n\u001b[1;32m    131\u001b[0m         \u001b[0mtoken\u001b[0m \u001b[0;32mfor\u001b[0m \u001b[0msent\u001b[0m \u001b[0;32min\u001b[0m \u001b[0msentences\u001b[0m \u001b[0;32mfor\u001b[0m \u001b[0mtoken\u001b[0m \u001b[0;32min\u001b[0m \u001b[0m_treebank_word_tokenizer\u001b[0m\u001b[0;34m.\u001b[0m\u001b[0mtokenize\u001b[0m\u001b[0;34m(\u001b[0m\u001b[0msent\u001b[0m\u001b[0;34m)\u001b[0m\u001b[0;34m\u001b[0m\u001b[0;34m\u001b[0m\u001b[0m\n",
            "\u001b[0;32m/usr/local/lib/python3.11/dist-packages/nltk/tokenize/__init__.py\u001b[0m in \u001b[0;36msent_tokenize\u001b[0;34m(text, language)\u001b[0m\n\u001b[1;32m    104\u001b[0m     \u001b[0;34m:\u001b[0m\u001b[0mparam\u001b[0m \u001b[0mlanguage\u001b[0m\u001b[0;34m:\u001b[0m \u001b[0mthe\u001b[0m \u001b[0mmodel\u001b[0m \u001b[0mname\u001b[0m \u001b[0;32min\u001b[0m \u001b[0mthe\u001b[0m \u001b[0mPunkt\u001b[0m \u001b[0mcorpus\u001b[0m\u001b[0;34m\u001b[0m\u001b[0;34m\u001b[0m\u001b[0m\n\u001b[1;32m    105\u001b[0m     \"\"\"\n\u001b[0;32m--> 106\u001b[0;31m     \u001b[0mtokenizer\u001b[0m \u001b[0;34m=\u001b[0m \u001b[0mload\u001b[0m\u001b[0;34m(\u001b[0m\u001b[0;34m\"tokenizers/punkt/{0}.pickle\"\u001b[0m\u001b[0;34m.\u001b[0m\u001b[0mformat\u001b[0m\u001b[0;34m(\u001b[0m\u001b[0mlanguage\u001b[0m\u001b[0;34m)\u001b[0m\u001b[0;34m)\u001b[0m\u001b[0;34m\u001b[0m\u001b[0;34m\u001b[0m\u001b[0m\n\u001b[0m\u001b[1;32m    107\u001b[0m     \u001b[0;32mreturn\u001b[0m \u001b[0mtokenizer\u001b[0m\u001b[0;34m.\u001b[0m\u001b[0mtokenize\u001b[0m\u001b[0;34m(\u001b[0m\u001b[0mtext\u001b[0m\u001b[0;34m)\u001b[0m\u001b[0;34m\u001b[0m\u001b[0;34m\u001b[0m\u001b[0m\n\u001b[1;32m    108\u001b[0m \u001b[0;34m\u001b[0m\u001b[0m\n",
            "\u001b[0;32m/usr/local/lib/python3.11/dist-packages/nltk/data.py\u001b[0m in \u001b[0;36mload\u001b[0;34m(resource_url, format, cache, verbose, logic_parser, fstruct_reader, encoding)\u001b[0m\n\u001b[1;32m    750\u001b[0m \u001b[0;34m\u001b[0m\u001b[0m\n\u001b[1;32m    751\u001b[0m     \u001b[0;31m# Load the resource.\u001b[0m\u001b[0;34m\u001b[0m\u001b[0;34m\u001b[0m\u001b[0m\n\u001b[0;32m--> 752\u001b[0;31m     \u001b[0mopened_resource\u001b[0m \u001b[0;34m=\u001b[0m \u001b[0m_open\u001b[0m\u001b[0;34m(\u001b[0m\u001b[0mresource_url\u001b[0m\u001b[0;34m)\u001b[0m\u001b[0;34m\u001b[0m\u001b[0;34m\u001b[0m\u001b[0m\n\u001b[0m\u001b[1;32m    753\u001b[0m \u001b[0;34m\u001b[0m\u001b[0m\n\u001b[1;32m    754\u001b[0m     \u001b[0;32mif\u001b[0m \u001b[0mformat\u001b[0m \u001b[0;34m==\u001b[0m \u001b[0;34m\"raw\"\u001b[0m\u001b[0;34m:\u001b[0m\u001b[0;34m\u001b[0m\u001b[0;34m\u001b[0m\u001b[0m\n",
            "\u001b[0;32m/usr/local/lib/python3.11/dist-packages/nltk/data.py\u001b[0m in \u001b[0;36m_open\u001b[0;34m(resource_url)\u001b[0m\n\u001b[1;32m    875\u001b[0m \u001b[0;34m\u001b[0m\u001b[0m\n\u001b[1;32m    876\u001b[0m     \u001b[0;32mif\u001b[0m \u001b[0mprotocol\u001b[0m \u001b[0;32mis\u001b[0m \u001b[0;32mNone\u001b[0m \u001b[0;32mor\u001b[0m \u001b[0mprotocol\u001b[0m\u001b[0;34m.\u001b[0m\u001b[0mlower\u001b[0m\u001b[0;34m(\u001b[0m\u001b[0;34m)\u001b[0m \u001b[0;34m==\u001b[0m \u001b[0;34m\"nltk\"\u001b[0m\u001b[0;34m:\u001b[0m\u001b[0;34m\u001b[0m\u001b[0;34m\u001b[0m\u001b[0m\n\u001b[0;32m--> 877\u001b[0;31m         \u001b[0;32mreturn\u001b[0m \u001b[0mfind\u001b[0m\u001b[0;34m(\u001b[0m\u001b[0mpath_\u001b[0m\u001b[0;34m,\u001b[0m \u001b[0mpath\u001b[0m \u001b[0;34m+\u001b[0m \u001b[0;34m[\u001b[0m\u001b[0;34m\"\"\u001b[0m\u001b[0;34m]\u001b[0m\u001b[0;34m)\u001b[0m\u001b[0;34m.\u001b[0m\u001b[0mopen\u001b[0m\u001b[0;34m(\u001b[0m\u001b[0;34m)\u001b[0m\u001b[0;34m\u001b[0m\u001b[0;34m\u001b[0m\u001b[0m\n\u001b[0m\u001b[1;32m    878\u001b[0m     \u001b[0;32melif\u001b[0m \u001b[0mprotocol\u001b[0m\u001b[0;34m.\u001b[0m\u001b[0mlower\u001b[0m\u001b[0;34m(\u001b[0m\u001b[0;34m)\u001b[0m \u001b[0;34m==\u001b[0m \u001b[0;34m\"file\"\u001b[0m\u001b[0;34m:\u001b[0m\u001b[0;34m\u001b[0m\u001b[0;34m\u001b[0m\u001b[0m\n\u001b[1;32m    879\u001b[0m         \u001b[0;31m# urllib might not use mode='rb', so handle this one ourselves:\u001b[0m\u001b[0;34m\u001b[0m\u001b[0;34m\u001b[0m\u001b[0m\n",
            "\u001b[0;32m/usr/local/lib/python3.11/dist-packages/nltk/data.py\u001b[0m in \u001b[0;36mfind\u001b[0;34m(resource_name, paths)\u001b[0m\n\u001b[1;32m    583\u001b[0m     \u001b[0msep\u001b[0m \u001b[0;34m=\u001b[0m \u001b[0;34m\"*\"\u001b[0m \u001b[0;34m*\u001b[0m \u001b[0;36m70\u001b[0m\u001b[0;34m\u001b[0m\u001b[0;34m\u001b[0m\u001b[0m\n\u001b[1;32m    584\u001b[0m     \u001b[0mresource_not_found\u001b[0m \u001b[0;34m=\u001b[0m \u001b[0;34m\"\\n%s\\n%s\\n%s\\n\"\u001b[0m \u001b[0;34m%\u001b[0m \u001b[0;34m(\u001b[0m\u001b[0msep\u001b[0m\u001b[0;34m,\u001b[0m \u001b[0mmsg\u001b[0m\u001b[0;34m,\u001b[0m \u001b[0msep\u001b[0m\u001b[0;34m)\u001b[0m\u001b[0;34m\u001b[0m\u001b[0;34m\u001b[0m\u001b[0m\n\u001b[0;32m--> 585\u001b[0;31m     \u001b[0;32mraise\u001b[0m \u001b[0mLookupError\u001b[0m\u001b[0;34m(\u001b[0m\u001b[0mresource_not_found\u001b[0m\u001b[0;34m)\u001b[0m\u001b[0;34m\u001b[0m\u001b[0;34m\u001b[0m\u001b[0m\n\u001b[0m\u001b[1;32m    586\u001b[0m \u001b[0;34m\u001b[0m\u001b[0m\n\u001b[1;32m    587\u001b[0m \u001b[0;34m\u001b[0m\u001b[0m\n",
            "\u001b[0;31mLookupError\u001b[0m: \n**********************************************************************\n  Resource \u001b[93mpunkt\u001b[0m not found.\n  Please use the NLTK Downloader to obtain the resource:\n\n  \u001b[31m>>> import nltk\n  >>> nltk.download('punkt')\n  \u001b[0m\n  For more information see: https://www.nltk.org/data.html\n\n  Attempted to load \u001b[93mtokenizers/punkt/PY3/English.pickle\u001b[0m\n\n  Searched in:\n    - '/root/nltk_data'\n    - '/usr/nltk_data'\n    - '/usr/share/nltk_data'\n    - '/usr/lib/nltk_data'\n    - '/usr/share/nltk_data'\n    - '/usr/local/share/nltk_data'\n    - '/usr/lib/nltk_data'\n    - '/usr/local/lib/nltk_data'\n    - ''\n**********************************************************************\n"
          ]
        }
      ]
    },
    {
      "cell_type": "code",
      "source": [
        "import nltk"
      ],
      "metadata": {
        "id": "Op23yshxiF-r"
      },
      "execution_count": null,
      "outputs": []
    },
    {
      "cell_type": "code",
      "source": [
        "nltk.download('punkt')"
      ],
      "metadata": {
        "colab": {
          "base_uri": "https://localhost:8080/"
        },
        "id": "gUn_bFDZiIRc",
        "outputId": "1ff19bf9-02cb-4765-f3a7-13318fc55088"
      },
      "execution_count": null,
      "outputs": [
        {
          "output_type": "stream",
          "name": "stderr",
          "text": [
            "[nltk_data] Downloading package punkt to /root/nltk_data...\n",
            "[nltk_data]   Package punkt is already up-to-date!\n"
          ]
        },
        {
          "output_type": "execute_result",
          "data": {
            "text/plain": [
              "True"
            ]
          },
          "metadata": {},
          "execution_count": 90
        }
      ]
    },
    {
      "cell_type": "code",
      "source": [
        "def extract_ne(quote, language='english'):\n",
        "...     words = word_tokenize(quote, language=language)\n",
        "...     tags = nltk.pos_tag(words)\n",
        "...     tree = nltk.ne_chunk(tags, binary=True)\n",
        "...     return set(\n",
        "...         \" \".join(i[0] for i in t)\n",
        "...         for t in tree\n",
        "...         if hasattr(t, \"label\") and t.label() == \"NE\"\n",
        "...     )"
      ],
      "metadata": {
        "id": "Qpx3f9A-iKD_"
      },
      "execution_count": null,
      "outputs": []
    },
    {
      "cell_type": "code",
      "source": [
        "extract_ne(Myself_string)"
      ],
      "metadata": {
        "colab": {
          "base_uri": "https://localhost:8080/"
        },
        "id": "WPGLxtlriONy",
        "outputId": "f1980cd9-f647-4065-fb20-58e6c7b69b36"
      },
      "execution_count": null,
      "outputs": [
        {
          "output_type": "execute_result",
          "data": {
            "text/plain": [
              "{'Nikki', 'Sri Nikhitha Bokka'}"
            ]
          },
          "metadata": {},
          "execution_count": 92
        }
      ]
    },
    {
      "cell_type": "markdown",
      "source": [
        "# Corpora Analysis\n",
        "\n",
        "In this section, we will be using few corpus from NLTK."
      ],
      "metadata": {
        "id": "iubNHvS5iW74"
      }
    },
    {
      "cell_type": "code",
      "source": [
        "#Downloading all the text data in book of NLTK\n",
        "nltk.download(\"book\")"
      ],
      "metadata": {
        "colab": {
          "base_uri": "https://localhost:8080/"
        },
        "id": "cFuPpIy-ibmx",
        "outputId": "41e4ef27-519a-482b-d6e5-2474e698dd01"
      },
      "execution_count": null,
      "outputs": [
        {
          "output_type": "stream",
          "name": "stderr",
          "text": [
            "[nltk_data] Downloading collection 'book'\n",
            "[nltk_data]    | \n",
            "[nltk_data]    | Downloading package abc to /root/nltk_data...\n",
            "[nltk_data]    |   Unzipping corpora/abc.zip.\n",
            "[nltk_data]    | Downloading package brown to /root/nltk_data...\n",
            "[nltk_data]    |   Unzipping corpora/brown.zip.\n",
            "[nltk_data]    | Downloading package chat80 to /root/nltk_data...\n",
            "[nltk_data]    |   Unzipping corpora/chat80.zip.\n",
            "[nltk_data]    | Downloading package cmudict to /root/nltk_data...\n",
            "[nltk_data]    |   Unzipping corpora/cmudict.zip.\n",
            "[nltk_data]    | Downloading package conll2000 to /root/nltk_data...\n",
            "[nltk_data]    |   Unzipping corpora/conll2000.zip.\n",
            "[nltk_data]    | Downloading package conll2002 to /root/nltk_data...\n",
            "[nltk_data]    |   Unzipping corpora/conll2002.zip.\n",
            "[nltk_data]    | Downloading package dependency_treebank to\n",
            "[nltk_data]    |     /root/nltk_data...\n",
            "[nltk_data]    |   Unzipping corpora/dependency_treebank.zip.\n",
            "[nltk_data]    | Downloading package genesis to /root/nltk_data...\n",
            "[nltk_data]    |   Unzipping corpora/genesis.zip.\n",
            "[nltk_data]    | Downloading package gutenberg to /root/nltk_data...\n",
            "[nltk_data]    |   Unzipping corpora/gutenberg.zip.\n",
            "[nltk_data]    | Downloading package ieer to /root/nltk_data...\n",
            "[nltk_data]    |   Unzipping corpora/ieer.zip.\n",
            "[nltk_data]    | Downloading package inaugural to /root/nltk_data...\n",
            "[nltk_data]    |   Unzipping corpora/inaugural.zip.\n",
            "[nltk_data]    | Downloading package movie_reviews to\n",
            "[nltk_data]    |     /root/nltk_data...\n",
            "[nltk_data]    |   Unzipping corpora/movie_reviews.zip.\n",
            "[nltk_data]    | Downloading package nps_chat to /root/nltk_data...\n",
            "[nltk_data]    |   Unzipping corpora/nps_chat.zip.\n",
            "[nltk_data]    | Downloading package names to /root/nltk_data...\n",
            "[nltk_data]    |   Unzipping corpora/names.zip.\n",
            "[nltk_data]    | Downloading package ppattach to /root/nltk_data...\n",
            "[nltk_data]    |   Unzipping corpora/ppattach.zip.\n",
            "[nltk_data]    | Downloading package reuters to /root/nltk_data...\n",
            "[nltk_data]    | Downloading package senseval to /root/nltk_data...\n",
            "[nltk_data]    |   Unzipping corpora/senseval.zip.\n",
            "[nltk_data]    | Downloading package state_union to /root/nltk_data...\n",
            "[nltk_data]    |   Unzipping corpora/state_union.zip.\n",
            "[nltk_data]    | Downloading package stopwords to /root/nltk_data...\n",
            "[nltk_data]    |   Package stopwords is already up-to-date!\n",
            "[nltk_data]    | Downloading package swadesh to /root/nltk_data...\n",
            "[nltk_data]    |   Unzipping corpora/swadesh.zip.\n",
            "[nltk_data]    | Downloading package timit to /root/nltk_data...\n",
            "[nltk_data]    |   Unzipping corpora/timit.zip.\n",
            "[nltk_data]    | Downloading package treebank to /root/nltk_data...\n",
            "[nltk_data]    |   Unzipping corpora/treebank.zip.\n",
            "[nltk_data]    | Downloading package toolbox to /root/nltk_data...\n",
            "[nltk_data]    |   Unzipping corpora/toolbox.zip.\n",
            "[nltk_data]    | Downloading package udhr to /root/nltk_data...\n",
            "[nltk_data]    |   Unzipping corpora/udhr.zip.\n",
            "[nltk_data]    | Downloading package udhr2 to /root/nltk_data...\n",
            "[nltk_data]    |   Unzipping corpora/udhr2.zip.\n",
            "[nltk_data]    | Downloading package unicode_samples to\n",
            "[nltk_data]    |     /root/nltk_data...\n",
            "[nltk_data]    |   Unzipping corpora/unicode_samples.zip.\n",
            "[nltk_data]    | Downloading package webtext to /root/nltk_data...\n",
            "[nltk_data]    |   Unzipping corpora/webtext.zip.\n",
            "[nltk_data]    | Downloading package wordnet to /root/nltk_data...\n",
            "[nltk_data]    |   Package wordnet is already up-to-date!\n",
            "[nltk_data]    | Downloading package wordnet_ic to /root/nltk_data...\n",
            "[nltk_data]    |   Unzipping corpora/wordnet_ic.zip.\n",
            "[nltk_data]    | Downloading package words to /root/nltk_data...\n",
            "[nltk_data]    |   Package words is already up-to-date!\n",
            "[nltk_data]    | Downloading package maxent_treebank_pos_tagger to\n",
            "[nltk_data]    |     /root/nltk_data...\n",
            "[nltk_data]    |   Unzipping taggers/maxent_treebank_pos_tagger.zip.\n",
            "[nltk_data]    | Downloading package maxent_ne_chunker to\n",
            "[nltk_data]    |     /root/nltk_data...\n",
            "[nltk_data]    |   Package maxent_ne_chunker is already up-to-date!\n",
            "[nltk_data]    | Downloading package universal_tagset to\n",
            "[nltk_data]    |     /root/nltk_data...\n",
            "[nltk_data]    |   Unzipping taggers/universal_tagset.zip.\n",
            "[nltk_data]    | Downloading package punkt to /root/nltk_data...\n",
            "[nltk_data]    |   Package punkt is already up-to-date!\n",
            "[nltk_data]    | Downloading package book_grammars to\n",
            "[nltk_data]    |     /root/nltk_data...\n",
            "[nltk_data]    |   Unzipping grammars/book_grammars.zip.\n",
            "[nltk_data]    | Downloading package city_database to\n",
            "[nltk_data]    |     /root/nltk_data...\n",
            "[nltk_data]    |   Unzipping corpora/city_database.zip.\n",
            "[nltk_data]    | Downloading package tagsets to /root/nltk_data...\n",
            "[nltk_data]    |   Package tagsets is already up-to-date!\n",
            "[nltk_data]    | Downloading package panlex_swadesh to\n",
            "[nltk_data]    |     /root/nltk_data...\n",
            "[nltk_data]    | Downloading package averaged_perceptron_tagger to\n",
            "[nltk_data]    |     /root/nltk_data...\n",
            "[nltk_data]    |   Package averaged_perceptron_tagger is already up-\n",
            "[nltk_data]    |       to-date!\n",
            "[nltk_data]    | \n",
            "[nltk_data]  Done downloading collection book\n"
          ]
        },
        {
          "output_type": "execute_result",
          "data": {
            "text/plain": [
              "True"
            ]
          },
          "metadata": {},
          "execution_count": 93
        }
      ]
    },
    {
      "cell_type": "code",
      "source": [
        "from nltk.book import *"
      ],
      "metadata": {
        "colab": {
          "base_uri": "https://localhost:8080/"
        },
        "id": "HSBLXbMlii0K",
        "outputId": "ff104cc6-659c-435c-e3eb-437aeb19af07"
      },
      "execution_count": null,
      "outputs": [
        {
          "output_type": "stream",
          "name": "stdout",
          "text": [
            "*** Introductory Examples for the NLTK Book ***\n",
            "Loading text1, ..., text9 and sent1, ..., sent9\n",
            "Type the name of the text or sentence to view it.\n",
            "Type: 'texts()' or 'sents()' to list the materials.\n",
            "text1: Moby Dick by Herman Melville 1851\n",
            "text2: Sense and Sensibility by Jane Austen 1811\n",
            "text3: The Book of Genesis\n",
            "text4: Inaugural Address Corpus\n",
            "text5: Chat Corpus\n",
            "text6: Monty Python and the Holy Grail\n",
            "text7: Wall Street Journal\n",
            "text8: Personals Corpus\n",
            "text9: The Man Who Was Thursday by G . K . Chesterton 1908\n"
          ]
        }
      ]
    },
    {
      "cell_type": "markdown",
      "source": [
        "## Concordance\n",
        "\n",
        "This can give you a peek into how a word is being used at the sentence level and what words are used with it."
      ],
      "metadata": {
        "id": "E0HLwUg6jOgO"
      }
    },
    {
      "cell_type": "code",
      "source": [
        "text1.concordance(\"man\")"
      ],
      "metadata": {
        "colab": {
          "base_uri": "https://localhost:8080/"
        },
        "id": "T7yYbuc7jPWL",
        "outputId": "f403813a-dc01-4897-a938-1e3bcb3815f3"
      },
      "execution_count": null,
      "outputs": [
        {
          "output_type": "stream",
          "name": "stdout",
          "text": [
            "Displaying 25 of 527 matches:\n",
            " Civitas ) which is but an artificial man .\" -- OPENING SENTENCE OF HOBBES ' S \n",
            "y of that sort that was killed by any man , such is his fierceness and swiftnes\n",
            "in his deepest reveries -- stand that man on his legs , set his feet a - going \n",
            "it ? The urbane activity with which a man receives money is really marvellous ,\n",
            ", and that on no account can a monied man enter heaven . Ah ! how cheerfully we\n",
            "ure truly , enough to drive a nervous man distracted . Yet was there a sort of \n",
            "ss needle sojourning in the body of a man , travelled full forty feet , and at \n",
            " him ), bustles a little withered old man , who , for their money , dearly sell\n",
            "ld put up with the half of any decent man ' s blanket . \" I thought so . All ri\n",
            "king as much noise as the rest . This man interested me at once ; and since the\n",
            " . I have seldom seen such brawn in a man . His face was deeply brown and burnt\n",
            "ions had mounted to its height , this man slipped away unobserved , and I saw n\n",
            "us to the entrance of the seamen . No man prefers to sleep two in a bed . In fa\n",
            " an uncomfortable feeling towards the man whom you design for my bedfellow -- a\n",
            "lord , that harpooneer is a dangerous man .\" \" He pays reg ' lar ,\" was the rej\n",
            "nd a papered fireboard representing a man striking a whale . Of things not prop\n",
            " me . I remembered a story of a white man -- a whaleman too -- who , falling am\n",
            "ter all ! It ' s only his outside ; a man can be honest in any sort of skin . B\n",
            "eard of a hot sun ' s tanning a white man into a purplish yellow one . However \n",
            " you sabbee me , I sabbee -- you this man sleepe you -- you sabbee ?\" \" Me sabb\n",
            "ng about , thought I to myself -- the man ' s a human being just as I am : he h\n",
            "th him . But I don ' t fancy having a man smoking in bed with me . It ' s dange\n",
            "ter of my breeding . Nevertheless , a man like Queequeg you don ' t see every d\n",
            "opriety that I ever heard of , is any man required to be private when putting o\n",
            "e more ' s the pity . So , if any one man , in his own proper person , afford s\n"
          ]
        }
      ]
    },
    {
      "cell_type": "code",
      "source": [
        "text4.concordance(\"woman\")"
      ],
      "metadata": {
        "colab": {
          "base_uri": "https://localhost:8080/"
        },
        "id": "3f6Gvmz8jV06",
        "outputId": "1010ef65-3b73-4f2a-c124-87a1c265406e"
      },
      "execution_count": null,
      "outputs": [
        {
          "output_type": "stream",
          "name": "stdout",
          "text": [
            "Displaying 4 of 4 matches:\n",
            "ideal republic , where every man and woman is called under the flag for assignm\n",
            "e have proclaimed that every man and woman on this earth has rights , and digni\n",
            "riend of each nation and every man , woman , and child who seeks a future of pe\n",
            " mark the swearing - in of the first woman in American history elected to natio\n"
          ]
        }
      ]
    },
    {
      "cell_type": "code",
      "source": [
        "#Just curious\n",
        "text1.concordance(\"Nikki\")\n",
        "text2.concordance(\"Nikki\")\n",
        "text3.concordance(\"Nikki\")\n",
        "text4.concordance(\"Nikki\")\n",
        "text5.concordance(\"Nikki\")\n",
        "text6.concordance(\"Nikki\")\n",
        "text7.concordance(\"Nikki\")\n",
        "text8.concordance(\"Nikki\")\n",
        "text9.concordance(\"Nikki\")"
      ],
      "metadata": {
        "colab": {
          "base_uri": "https://localhost:8080/"
        },
        "id": "2Sn7dlykj3ff",
        "outputId": "1b8aa04d-48b6-42a3-cd38-d743babd06bb"
      },
      "execution_count": null,
      "outputs": [
        {
          "output_type": "stream",
          "name": "stdout",
          "text": [
            "no matches\n",
            "no matches\n",
            "no matches\n",
            "no matches\n",
            "no matches\n",
            "no matches\n",
            "no matches\n",
            "no matches\n",
            "no matches\n"
          ]
        }
      ]
    },
    {
      "cell_type": "markdown",
      "source": [
        "## Dispersion Plot\n",
        "A dispersion plot is used to see how much a particular word appears and where it appears in the text, Here I would like see the plots of all the texts in the book collection of NLTK"
      ],
      "metadata": {
        "id": "Qg0jH4XNjowm"
      }
    },
    {
      "cell_type": "code",
      "source": [
        "text1.dispersion_plot(\n",
        "...     [\"woman\", \"lady\", \"girl\", \"gal\", \"man\", \"gentleman\", \"boy\", \"guy\"]\n",
        "... )\n",
        "text2.dispersion_plot(\n",
        "...     [\"woman\", \"lady\", \"girl\", \"gal\", \"man\", \"gentleman\", \"boy\", \"guy\"]\n",
        "... )\n",
        "text3.dispersion_plot(\n",
        "...     [\"woman\", \"lady\", \"girl\", \"gal\", \"man\", \"gentleman\", \"boy\", \"guy\"]\n",
        "... )\n",
        "text4.dispersion_plot(\n",
        "...     [\"woman\", \"lady\", \"girl\", \"gal\", \"man\", \"gentleman\", \"boy\", \"guy\"]\n",
        "... )\n",
        "text5.dispersion_plot(\n",
        "...     [\"woman\", \"lady\", \"girl\", \"gal\", \"man\", \"gentleman\", \"boy\", \"guy\"]\n",
        "... )\n",
        "text6.dispersion_plot(\n",
        "...     [\"woman\", \"lady\", \"girl\", \"gal\", \"man\", \"gentleman\", \"boy\", \"guy\"]\n",
        "... )\n",
        "text7.dispersion_plot(\n",
        "...     [\"woman\", \"lady\", \"girl\", \"gal\", \"man\", \"gentleman\", \"boy\", \"guy\"]\n",
        "... )\n",
        "text8.dispersion_plot(\n",
        "...     [\"woman\", \"lady\", \"girl\", \"gal\", \"man\", \"gentleman\", \"boy\", \"guy\"]\n",
        "... )\n",
        "text9.dispersion_plot(\n",
        "...     [\"woman\", \"lady\", \"girl\", \"gal\", \"man\", \"gentleman\", \"boy\", \"guy\"]\n",
        "... )"
      ],
      "metadata": {
        "colab": {
          "base_uri": "https://localhost:8080/",
          "height": 1000
        },
        "id": "oqGUHwV7jpxt",
        "outputId": "67736da6-896a-4db5-b869-76f2604ae895"
      },
      "execution_count": null,
      "outputs": [
        {
          "output_type": "display_data",
          "data": {
            "text/plain": [
              "<Figure size 640x480 with 1 Axes>"
            ],
            "image/png": "[encoded data removed]"
          },
          "metadata": {}
        },
        {
          "output_type": "display_data",
          "data": {
            "text/plain": [
              "<Figure size 640x480 with 1 Axes>"
            ],
            "image/png": "[encoded data removed]"
          },
          "metadata": {}
        },
        {
          "output_type": "display_data",
          "data": {
            "text/plain": [
              "<Figure size 640x480 with 1 Axes>"
            ],
            "image/png": "[encoded data removed]"
          },
          "metadata": {}
        },
        {
          "output_type": "display_data",
          "data": {
            "text/plain": [
              "<Figure size 640x480 with 1 Axes>"
            ],
            "image/png": "[encoded data removed]"
          },
          "metadata": {}
        },
        {
          "output_type": "display_data",
          "data": {
            "text/plain": [
              "<Figure size 640x480 with 1 Axes>"
            ],
            "image/png": "[encoded data removed]"
          },
          "metadata": {}
        },
        {
          "output_type": "display_data",
          "data": {
            "text/plain": [
              "<Figure size 640x480 with 1 Axes>"
            ],
            "image/png": "[encoded data removed]"
          },
          "metadata": {}
        },
        {
          "output_type": "display_data",
          "data": {
            "text/plain": [
              "<Figure size 640x480 with 1 Axes>"
            ],
            "image/png": "[encoded data removed]"
          },
          "metadata": {}
        },
        {
          "output_type": "display_data",
          "data": {
            "text/plain": [
              "<Figure size 640x480 with 1 Axes>"
            ],
            "image/png": "[encoded data removed]"
          },
          "metadata": {}
        },
        {
          "output_type": "display_data",
          "data": {
            "text/plain": [
              "<Figure size 640x480 with 1 Axes>"
            ],
            "image/png": "[encoded data removed]"
          },
          "metadata": {}
        }
      ]
    },
    {
      "cell_type": "markdown",
      "source": [
        "## Frequency Distribution\n",
        "\n",
        "Checking which words are most used in the text using FreqDist subclass of collections.Counter."
      ],
      "metadata": {
        "id": "NsbxNWTJlTsX"
      }
    },
    {
      "cell_type": "code",
      "source": [
        "from nltk import FreqDist"
      ],
      "metadata": {
        "id": "R2V0m3y3lVNY"
      },
      "execution_count": null,
      "outputs": []
    },
    {
      "cell_type": "code",
      "source": [
        "frequency_distribution = FreqDist(text8)"
      ],
      "metadata": {
        "id": "L3bC5yROlZbn"
      },
      "execution_count": null,
      "outputs": []
    },
    {
      "cell_type": "code",
      "source": [
        "print(frequency_distribution)"
      ],
      "metadata": {
        "colab": {
          "base_uri": "https://localhost:8080/"
        },
        "id": "SG5TKWMOlb09",
        "outputId": "770c6f22-c706-4b9c-e606-b4d86cba2752"
      },
      "execution_count": null,
      "outputs": [
        {
          "output_type": "stream",
          "name": "stdout",
          "text": [
            "<FreqDist with 1108 samples and 4867 outcomes>\n"
          ]
        }
      ]
    },
    {
      "cell_type": "code",
      "source": [
        "frequency_distribution.most_common(15)"
      ],
      "metadata": {
        "colab": {
          "base_uri": "https://localhost:8080/"
        },
        "id": "L7pKNCD3lejI",
        "outputId": "995cc0be-cdba-4b6c-89e9-8b490a3cbc2c"
      },
      "execution_count": null,
      "outputs": [
        {
          "output_type": "execute_result",
          "data": {
            "text/plain": [
              "[(',', 539),\n",
              " ('.', 353),\n",
              " ('/', 110),\n",
              " ('for', 99),\n",
              " ('and', 74),\n",
              " ('to', 74),\n",
              " ('lady', 68),\n",
              " ('-', 66),\n",
              " ('seeks', 60),\n",
              " ('a', 52),\n",
              " ('with', 44),\n",
              " ('S', 36),\n",
              " ('ship', 33),\n",
              " ('&', 30),\n",
              " ('relationship', 29)]"
            ]
          },
          "metadata": {},
          "execution_count": 110
        }
      ]
    },
    {
      "cell_type": "code",
      "source": [
        "meaningful_words = [\n",
        "...     word for word in text8 if word.casefold() not in stop_words\n",
        "... ]"
      ],
      "metadata": {
        "id": "dOXg1DB7liPf"
      },
      "execution_count": null,
      "outputs": []
    },
    {
      "cell_type": "code",
      "source": [
        "frequency_distribution = FreqDist(meaningful_words)"
      ],
      "metadata": {
        "id": "R0Td1xZWlmPi"
      },
      "execution_count": null,
      "outputs": []
    },
    {
      "cell_type": "code",
      "source": [
        "frequency_distribution.most_common(15)"
      ],
      "metadata": {
        "colab": {
          "base_uri": "https://localhost:8080/"
        },
        "id": "_3cNwXAuloyZ",
        "outputId": "b33aa318-4113-4e81-e06b-8dc4d9128188"
      },
      "execution_count": null,
      "outputs": [
        {
          "output_type": "execute_result",
          "data": {
            "text/plain": [
              "[(',', 539),\n",
              " ('.', 353),\n",
              " ('/', 110),\n",
              " ('lady', 68),\n",
              " ('-', 66),\n",
              " ('seeks', 60),\n",
              " ('ship', 33),\n",
              " ('&', 30),\n",
              " ('relationship', 29),\n",
              " ('fun', 28),\n",
              " ('slim', 27),\n",
              " ('build', 27),\n",
              " ('smoker', 23),\n",
              " ('50', 23),\n",
              " ('non', 22)]"
            ]
          },
          "metadata": {},
          "execution_count": 113
        }
      ]
    },
    {
      "cell_type": "code",
      "source": [
        "frequency_distribution.plot(15, cumulative=True)"
      ],
      "metadata": {
        "colab": {
          "base_uri": "https://localhost:8080/",
          "height": 534
        },
        "id": "CB-apquMls2U",
        "outputId": "a100ca83-9d79-4c19-8245-25edb981b876"
      },
      "execution_count": null,
      "outputs": [
        {
          "output_type": "display_data",
          "data": {
            "text/plain": [
              "<Figure size 640x480 with 1 Axes>"
            ],
            "image/png": "[encoded data removed]"
          },
          "metadata": {}
        },
        {
          "output_type": "execute_result",
          "data": {
            "text/plain": [
              "<Axes: xlabel='Samples', ylabel='Cumulative Counts'>"
            ]
          },
          "metadata": {},
          "execution_count": 114
        }
      ]
    },
    {
      "cell_type": "markdown",
      "source": [
        "## Collocations\n",
        "\n",
        "Most common sequence of words in the text data."
      ],
      "metadata": {
        "id": "yva-NDNLnnu0"
      }
    },
    {
      "cell_type": "code",
      "source": [
        "text2.collocations()"
      ],
      "metadata": {
        "colab": {
          "base_uri": "https://localhost:8080/"
        },
        "id": "schUYbXSno0b",
        "outputId": "c4f0d46d-f7cb-4b8c-d275-87a0987116d5"
      },
      "execution_count": null,
      "outputs": [
        {
          "output_type": "stream",
          "name": "stdout",
          "text": [
            "Colonel Brandon; Sir John; Lady Middleton; Miss Dashwood; every thing;\n",
            "thousand pounds; dare say; Miss Steeles; said Elinor; Miss Steele;\n",
            "every body; John Dashwood; great deal; Harley Street; Berkeley Street;\n",
            "Miss Dashwoods; young man; Combe Magna; every day; next morning\n"
          ]
        }
      ]
    },
    {
      "cell_type": "markdown",
      "source": [
        "It would be interesting to see lemmatized colloactions in the text2 from book collection"
      ],
      "metadata": {
        "id": "0Zy6QA-H4HgG"
      }
    },
    {
      "cell_type": "code",
      "source": [
        "lemmatized_words = [lemmatizer.lemmatize(word) for word in text2]"
      ],
      "metadata": {
        "id": "l5wPila2n_Rf"
      },
      "execution_count": null,
      "outputs": []
    },
    {
      "cell_type": "code",
      "source": [
        "new_text = nltk.Text(lemmatized_words)"
      ],
      "metadata": {
        "id": "IBAyStP6oCgm"
      },
      "execution_count": null,
      "outputs": []
    },
    {
      "cell_type": "code",
      "source": [
        "new_text.collocations()"
      ],
      "metadata": {
        "colab": {
          "base_uri": "https://localhost:8080/"
        },
        "id": "gjMQmrI1oGIe",
        "outputId": "38746593-b203-4840-96a8-c40a27ff1cdb"
      },
      "execution_count": null,
      "outputs": [
        {
          "output_type": "stream",
          "name": "stdout",
          "text": [
            "Colonel Brandon; Sir John; Lady Middleton; Miss Dashwood; every thing;\n",
            "thousand pound; dare say; Miss Steeles; said Elinor; Miss Steele;\n",
            "every body; John Dashwood; great deal; young lady; Harley Street;\n",
            "Berkeley Street; Miss Dashwoods; young man; Combe Magna; next morning\n"
          ]
        }
      ]
    },
    {
      "cell_type": "markdown",
      "source": [
        "# Conclusion\n",
        "\n",
        "The text pre-processing using NLTK involves the steps involved in the NLP pipeline. By following the tutorial and reading the textbook material, I could map the the steps in the tutorial to the steps involved in the pipeline. As per my understanding, Filtering stop words, lemmatizing, and tokenizing are all part of lexical analysis, which divides text into tokens. Lemmatizing, stemming, and filtering stop words are all part of morphological analysis. Identifying parts of speech, chunking, and chinking are all part of syntactic analysis. Recognizing named entities is a component of semantic analysis. A dispersion plot is created as part of discourse integration. Pragmatic analysis uses collocations and frequency distribution.\n",
        "\n",
        "The way we discover the NLP pipeline by several steps in the tutorial has increased my understanding of the pipeline. Using NLTK for the text preprocessing has been rewarding and I believe it's great for research, educational purposes, and prototyping smaller NLP models.\n"
      ],
      "metadata": {
        "id": "dv7pdr6OoytP"
      }
    }
  ]
}